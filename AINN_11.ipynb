{
  "nbformat": 4,
  "nbformat_minor": 0,
  "metadata": {
    "colab": {
      "name": "AINN_11.ipynb",
      "private_outputs": true,
      "provenance": [],
      "toc_visible": true
    },
    "kernelspec": {
      "name": "python3",
      "display_name": "Python 3"
    },
    "accelerator": "GPU"
  },
  "cells": [
    {
      "cell_type": "markdown",
      "metadata": {
        "id": "S0DDAe0sKMsH"
      },
      "source": [
        "# 畳み込みニューラルネットワークによる画像分類"
      ]
    },
    {
      "cell_type": "markdown",
      "metadata": {
        "id": "thDOU91EKS5w"
      },
      "source": [
        "## モジュールのインポート"
      ]
    },
    {
      "cell_type": "code",
      "metadata": {
        "id": "Y2WsuGdea44Z"
      },
      "source": [
        "from tensorflow.keras.datasets import cifar10\n",
        "from tensorflow.keras.layers import Activation, Dense, Dropout, Conv2D, Flatten, MaxPool2D\n",
        "from tensorflow.keras.models import Sequential, load_model\n",
        "from tensorflow.keras.optimizers import Adam\n",
        "from tensorflow.keras.utils import to_categorical\n",
        "import numpy as np\n",
        "import matplotlib.pyplot as plt\n",
        "%matplotlib inline"
      ],
      "execution_count": null,
      "outputs": []
    },
    {
      "cell_type": "markdown",
      "metadata": {
        "id": "5tTNPKy_KXBI"
      },
      "source": [
        "## データセットの準備"
      ]
    },
    {
      "cell_type": "code",
      "metadata": {
        "id": "G835wcgJbBxQ"
      },
      "source": [
        "(train_images, train_labels), (test_images, test_labels) = cifar10.load_data()"
      ],
      "execution_count": null,
      "outputs": []
    },
    {
      "cell_type": "code",
      "metadata": {
        "id": "RykdDxGub2GO"
      },
      "source": [
        "print(train_images.shape)\n",
        "print(train_labels.shape)\n",
        "print(test_images.shape)\n",
        "print(test_labels.shape)"
      ],
      "execution_count": null,
      "outputs": []
    },
    {
      "cell_type": "code",
      "metadata": {
        "id": "ScJ8Ljo6cCAK"
      },
      "source": [
        "for i in range(10):\n",
        "    plt.subplot(2, 5, i+1)\n",
        "    plt.imshow(train_images[i])\n",
        "plt.show()"
      ],
      "execution_count": null,
      "outputs": []
    },
    {
      "cell_type": "code",
      "metadata": {
        "id": "q8QaBDFoceNZ"
      },
      "source": [
        "labels = ['airplane', 'automobile', 'bird', 'cat', 'deer', 'dog', 'frog', 'horse', 'ship', 'truck']"
      ],
      "execution_count": null,
      "outputs": []
    },
    {
      "cell_type": "code",
      "metadata": {
        "id": "SXsNkdyKdIfp"
      },
      "source": [
        "tl = train_labels[0:10]\n",
        "tl = tl.reshape(-1)\n",
        "print([labels[n] for n in tl])"
      ],
      "execution_count": null,
      "outputs": []
    },
    {
      "cell_type": "markdown",
      "metadata": {
        "id": "j5T_-Ok-KkF-"
      },
      "source": [
        "## データの前処理"
      ]
    },
    {
      "cell_type": "code",
      "metadata": {
        "id": "I0OYLFPZdkDG"
      },
      "source": [
        "train_images = train_images.astype('float32')/255.0\n",
        "test_images = test_images.astype('float32')/255.0\n",
        "print(train_images.shape)\n",
        "print(test_images.shape)"
      ],
      "execution_count": null,
      "outputs": []
    },
    {
      "cell_type": "markdown",
      "metadata": {
        "id": "3cFQ3v38K16c"
      },
      "source": [
        "ラベルの前処理"
      ]
    },
    {
      "cell_type": "code",
      "metadata": {
        "id": "QVK6WKgDf-UB"
      },
      "source": [
        "train_labels = to_categorical(train_labels, 10)\n",
        "test_labels = to_categorical(test_labels, 10)\n",
        "print(train_labels.shape)\n",
        "print(test_labels.shape)"
      ],
      "execution_count": null,
      "outputs": []
    },
    {
      "cell_type": "markdown",
      "metadata": {
        "id": "ttxaX99AK8YZ"
      },
      "source": [
        "## モデルの作成"
      ]
    },
    {
      "cell_type": "code",
      "metadata": {
        "id": "BXHcdnP-hQ_A"
      },
      "source": [
        "model = Sequential()\n",
        "\n",
        "# block 1\n",
        "model.add(Conv2D(32, (3,3), activation='relu', padding='same', input_shape=(32,32,3)))\n",
        "model.add(Conv2D(32, (3,3), activation='relu', padding='same'))\n",
        "model.add(MaxPool2D(pool_size=(2,2)))\n",
        "model.add(Dropout(0.25))\n",
        "\n",
        "# block 2\n",
        "model.add(Conv2D(64, (3,3), activation='relu', padding='same'))\n",
        "model.add(Conv2D(64, (3,3), activation='relu', padding='same'))\n",
        "model.add(MaxPool2D(pool_size=(2,2)))\n",
        "model.add(Dropout(0.25))\n",
        "\n",
        "model.add(Flatten())\n",
        "model.add(Dense(512, activation='relu'))\n",
        "model.add(Dropout(0.5))\n",
        "model.add(Dense(10, activation='softmax'))"
      ],
      "execution_count": null,
      "outputs": []
    },
    {
      "cell_type": "code",
      "metadata": {
        "id": "EN20ahhWhU-O"
      },
      "source": [
        "model.summary()"
      ],
      "execution_count": null,
      "outputs": []
    },
    {
      "cell_type": "markdown",
      "metadata": {
        "id": "bYEuFLLNLBg7"
      },
      "source": [
        "## コンパイル"
      ]
    },
    {
      "cell_type": "code",
      "metadata": {
        "id": "VPFekn-oizKv"
      },
      "source": [
        "model.compile(loss='categorical_crossentropy', optimizer=Adam(lr=0.001), metrics=['acc'])"
      ],
      "execution_count": null,
      "outputs": []
    },
    {
      "cell_type": "markdown",
      "metadata": {
        "id": "V-G6Vm0mLINf"
      },
      "source": [
        "## 学習"
      ]
    },
    {
      "cell_type": "code",
      "metadata": {
        "id": "096AM90sey2O"
      },
      "source": [
        "history = model.fit(train_images, train_labels, batch_size=128, epochs=20, validation_split=0.1)"
      ],
      "execution_count": null,
      "outputs": []
    },
    {
      "cell_type": "code",
      "metadata": {
        "id": "ENvk56JMe_LO"
      },
      "source": [
        "model.save('convolution.h5')"
      ],
      "execution_count": null,
      "outputs": []
    },
    {
      "cell_type": "code",
      "metadata": {
        "id": "ZamRJnapf3Ej"
      },
      "source": [
        "model = load_model('convolution.h5')"
      ],
      "execution_count": null,
      "outputs": []
    },
    {
      "cell_type": "markdown",
      "metadata": {
        "id": "tKbpE8BjLPBc"
      },
      "source": [
        "## グラフの表示"
      ]
    },
    {
      "cell_type": "code",
      "metadata": {
        "id": "S3CKyQ51gBcd"
      },
      "source": [
        "plt.plot(history.history['acc'], label='acc')\n",
        "plt.plot(history.history['val_acc'], label='val_acc')\n",
        "plt.ylabel('accracy')\n",
        "plt.xlabel('epoch')\n",
        "plt.legend(loc='best')\n",
        "plt.show()"
      ],
      "execution_count": null,
      "outputs": []
    },
    {
      "cell_type": "markdown",
      "metadata": {
        "id": "RpjSWtPfLUtF"
      },
      "source": [
        "## 評価"
      ]
    },
    {
      "cell_type": "code",
      "metadata": {
        "id": "3yCga4dsgbw_"
      },
      "source": [
        "test_loss, test_acc = model.evaluate(test_images, test_labels)\n",
        "print('loss: {:.3f}\\nacc: {:.3f}'.format(test_loss, test_acc))"
      ],
      "execution_count": null,
      "outputs": []
    },
    {
      "cell_type": "markdown",
      "metadata": {
        "id": "4LFgG3CPLa7i"
      },
      "source": [
        "## 推論"
      ]
    },
    {
      "cell_type": "code",
      "metadata": {
        "id": "NCMHc9TBjYSD"
      },
      "source": [
        "for i in range(10):\n",
        "    plt.subplot(2, 5, i+1)\n",
        "    plt.imshow(test_images[i])\n",
        "plt.show()\n",
        "\n",
        "test_predictions = model.predict(test_images[0:10])\n",
        "test_predictions = np.argmax(test_predictions, axis=1)\n",
        "print([labels[n] for n in test_predictions])"
      ],
      "execution_count": null,
      "outputs": []
    },
    {
      "cell_type": "code",
      "metadata": {
        "id": "H-sxkezYjuAM"
      },
      "source": [
        "tl = test_labels[0:10]\n",
        "tl = np.argmax(tl, axis=1)\n",
        "print([labels[n] for n in tl])"
      ],
      "execution_count": null,
      "outputs": []
    }
  ]
}