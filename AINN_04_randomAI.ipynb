{
  "nbformat": 4,
  "nbformat_minor": 0,
  "metadata": {
    "kernelspec": {
      "display_name": "Python 3",
      "language": "python",
      "name": "python3"
    },
    "language_info": {
      "codemirror_mode": {
        "name": "ipython",
        "version": 3
      },
      "file_extension": ".py",
      "mimetype": "text/x-python",
      "name": "python",
      "nbconvert_exporter": "python",
      "pygments_lexer": "ipython3",
      "version": "3.7.7"
    },
    "colab": {
      "name": "AINN_04_randomAI.ipynb",
      "private_outputs": true,
      "provenance": [],
      "toc_visible": true
    }
  },
  "cells": [
    {
      "cell_type": "markdown",
      "metadata": {
        "id": "w_bln2yw98lq"
      },
      "source": [
        "# 迷路を走るランダムエージェント\n",
        "参考文献：小川雄太郎著「つくりながら学ぶ！深層強化学習」<br>\n",
        "Tomoko Ozeki"
      ]
    },
    {
      "cell_type": "code",
      "metadata": {
        "id": "UtuoWJA_98lv"
      },
      "source": [
        "import numpy as np\n",
        "import matplotlib.pyplot as plt\n",
        "%matplotlib inline"
      ],
      "execution_count": null,
      "outputs": []
    },
    {
      "cell_type": "markdown",
      "metadata": {
        "id": "Er0mZkh598lv"
      },
      "source": [
        "## 環境：迷路を作る"
      ]
    },
    {
      "cell_type": "code",
      "metadata": {
        "id": "weffG4-t98lw"
      },
      "source": [
        "# 図を描く大きさと図の変数名を宣言\n",
        "fig = plt.figure(figsize=((5,5)))\n",
        "ax = plt.gca()\n",
        "\n",
        "# 赤い壁を描く\n",
        "plt.plot([1,1], [0,1], color='red', linewidth=2)\n",
        "plt.plot([1,2], [2,2], color='red', linewidth=2)\n",
        "plt.plot([2,2], [2,1], color='red', linewidth=2)\n",
        "plt.plot([2,3], [1,1], color='red', linewidth=2)\n",
        "\n",
        "# 状態を示す文字S0~S8を描く\n",
        "plt.text(0.5, 2.5, 'S0', size=14, ha='center')\n",
        "plt.text(1.5, 2.5, 'S1', size=14, ha='center')\n",
        "plt.text(2.5, 2.5, 'S2', size=14, ha='center')\n",
        "plt.text(0.5, 1.5, 'S3', size=14, ha='center')\n",
        "plt.text(1.5, 1.5, 'S4', size=14, ha='center')\n",
        "plt.text(2.5, 1.5, 'S5', size=14, ha='center')\n",
        "plt.text(0.5, 0.5, 'S6', size=14, ha='center')\n",
        "plt.text(1.5, 0.5, 'S7', size=14, ha='center')\n",
        "plt.text(2.5, 0.5, 'S8', size=14, ha='center')\n",
        "plt.text(0.5, 2.3, 'START', ha='center')\n",
        "plt.text(2.5, 0.3, 'GOAL', ha='center')\n",
        "\n",
        "# 描画範囲の設定と目盛りを消す設定\n",
        "ax.set_xlim(0, 3)\n",
        "ax.set_ylim(0, 3)\n",
        "plt.tick_params(axis='both', which='both', bottom='off', top='off',\n",
        "               labelbottom='off', right='off', left='off', labelleft='off')\n",
        "\n",
        "# 現在地S0に緑丸を描画する\n",
        "line, = ax.plot([0.5], [2.5], marker=\"o\", color='c', markersize=60)\n",
        "plt.show()"
      ],
      "execution_count": null,
      "outputs": []
    },
    {
      "cell_type": "markdown",
      "metadata": {
        "id": "XgGkdSkV98lw"
      },
      "source": [
        "## エージェントを作る"
      ]
    },
    {
      "cell_type": "markdown",
      "metadata": {
        "id": "pJaHZWnj98lw"
      },
      "source": [
        "### パラメータの初期値\n",
        "行は状態 0~7，列は行動　up, right, down, left"
      ]
    },
    {
      "cell_type": "code",
      "metadata": {
        "id": "Gy-8Xkj698lx"
      },
      "source": [
        "theta_0 = np.array([[np.nan, 1, 1, np.nan],     #S0\n",
        "                   [np.nan, 1, np.nan, 1],      #S1\n",
        "                   [np.nan, np.nan, 1, 1],      #S2\n",
        "                   [1, 1, 1, np.nan],           #S3\n",
        "                   [np.nan, np.nan, 1, 1],      #S4\n",
        "                   [1, np.nan, np.nan, np.nan], #S5\n",
        "                   [1, np.nan, np.nan, np.nan], #S6 \n",
        "                   [1, 1, np.nan, np.nan]\n",
        "                   ])"
      ],
      "execution_count": null,
      "outputs": []
    },
    {
      "cell_type": "markdown",
      "metadata": {
        "id": "67-sjjAl98lx"
      },
      "source": [
        "### パラメータを方策に変換する関数"
      ]
    },
    {
      "cell_type": "code",
      "metadata": {
        "id": "ei6XWsTh98lx"
      },
      "source": [
        "def theta2pi(theta):\n",
        "    '''単純に割合を計算する'''\n",
        "    \n",
        "    [m, n] = theta.shape # 行列のサイズを取得\n",
        "    pi = np.zeros((m, n))\n",
        "    for i in range(0, m):\n",
        "        pi[i, :] = theta[i, :] / np.nansum(theta[i, :])\n",
        "    \n",
        "    pi = np.nan_to_num(pi) # nanを0に変換する\n",
        "    \n",
        "    return pi"
      ],
      "execution_count": null,
      "outputs": []
    },
    {
      "cell_type": "markdown",
      "metadata": {
        "id": "jnIUNqjf98lx"
      },
      "source": [
        "### パラメータを方策に変換"
      ]
    },
    {
      "cell_type": "code",
      "metadata": {
        "id": "pWzEwcXd98ly"
      },
      "source": [
        "pi_0 = theta2pi(theta_0)\n",
        "print(pi_0)"
      ],
      "execution_count": null,
      "outputs": []
    },
    {
      "cell_type": "markdown",
      "metadata": {
        "id": "L-3NiqZF98ly"
      },
      "source": [
        "### 行動を選択し、次の状態へ移る"
      ]
    },
    {
      "cell_type": "code",
      "metadata": {
        "id": "paMI-PKA98ly"
      },
      "source": [
        "def get_next_s(pi, s):\n",
        "    direction = [\"up\", \"right\", \"down\", \"left\"]\n",
        "    \n",
        "    next_direction = np.random.choice(direction, p=pi[s, :])\n",
        "    # pi[s, :] の確率にしたがって，directionを選択する\n",
        "    \n",
        "    if next_direction == \"up\":\n",
        "        s_next = s - 3\n",
        "    elif next_direction == \"right\":\n",
        "        s_next = s + 1\n",
        "    elif next_direction == \"down\":\n",
        "        s_next = s + 3\n",
        "    else:\n",
        "        s_next = s - 1\n",
        "    \n",
        "    return s_next"
      ],
      "execution_count": null,
      "outputs": []
    },
    {
      "cell_type": "markdown",
      "metadata": {
        "id": "0yZk97Je98ly"
      },
      "source": [
        "### 迷路内をエージェントがゴールするまで移動する関数"
      ]
    },
    {
      "cell_type": "code",
      "metadata": {
        "id": "iYxGd-Lk98ly"
      },
      "source": [
        "def goal_maze(pi):\n",
        "    s = 0\n",
        "    state_history = [0] # エージェントの移動を記録するリスト\n",
        "    \n",
        "    while(1): # ゴールするまで繰り返す\n",
        "        next_s = get_next_s(pi, s)\n",
        "        state_history.append(next_s) # 記録リストに次の状態を追加\n",
        "        \n",
        "        if next_s == 8:  # ゴールならエピソード終了\n",
        "            break\n",
        "        else:\n",
        "            s = next_s\n",
        "        \n",
        "    return state_history"
      ],
      "execution_count": null,
      "outputs": []
    },
    {
      "cell_type": "markdown",
      "metadata": {
        "id": "VhIZOw3F98lz"
      },
      "source": [
        "### ゴールをめざして進む"
      ]
    },
    {
      "cell_type": "code",
      "metadata": {
        "id": "jBL1uPIK98lz"
      },
      "source": [
        "state_history = goal_maze(pi_0)\n",
        "\n",
        "print(state_history)\n",
        "print(\"迷路を解くのにかかったステップ数は\" + str(len(state_history) - 1) + \"です\")"
      ],
      "execution_count": null,
      "outputs": []
    },
    {
      "cell_type": "markdown",
      "metadata": {
        "id": "pxmshmIN98lz"
      },
      "source": [
        "### アニメーションを作る\n",
        "参考URL http://louistiao.me/posts/notebooks/embedding-matplotlib-animations-in-jupyter-as-interactive-javascript-widgets/"
      ]
    },
    {
      "cell_type": "code",
      "metadata": {
        "id": "RhQFODNo98lz"
      },
      "source": [
        "from matplotlib import animation\n",
        "from IPython.display import HTML"
      ],
      "execution_count": null,
      "outputs": []
    },
    {
      "cell_type": "code",
      "metadata": {
        "id": "S25IS2RD98lz"
      },
      "source": [
        "def init():\n",
        "    '''背景画像の初期化'''\n",
        "    line.set_data([], [])\n",
        "    return (line,)\n",
        "\n",
        "def animate(i):\n",
        "    '''フレームごとの描画内容'''\n",
        "    state = state_history[i] # 現在の場所を描く\n",
        "    x = (state % 3) + 0.5    # 状態のx座標\n",
        "    y = 2.5 - int(state / 3) # 状態のy座標\n",
        "    line.set_data(x, y)\n",
        "    return (line)\n",
        "\n",
        "# 初期化関数とフレームごとの描画関数を用いて動画を作成する\n",
        "anim = animation.FuncAnimation(fig, animate, init_func=init, frames=len(state_history), interval=200, repeat=False)\n",
        "\n",
        "HTML(anim.to_jshtml())"
      ],
      "execution_count": null,
      "outputs": []
    },
    {
      "cell_type": "code",
      "metadata": {
        "id": "kjOYAfii98l0"
      },
      "source": [
        ""
      ],
      "execution_count": null,
      "outputs": []
    }
  ]
}