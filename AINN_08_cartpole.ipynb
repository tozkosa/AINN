{
  "nbformat": 4,
  "nbformat_minor": 0,
  "metadata": {
    "colab": {
      "name": "cartPole.ipynb",
      "private_outputs": true,
      "provenance": []
    },
    "kernelspec": {
      "name": "python3",
      "display_name": "Python 3"
    }
  },
  "cells": [
    {
      "cell_type": "markdown",
      "metadata": {
        "id": "XoEoTDpMRkXb"
      },
      "source": [
        "Google colab上でGymを走らせるには、xvfbやopenglなどをインストールしなければなりません。\n",
        "####【おまじない】1度だけ実行すればいいです。"
      ]
    },
    {
      "cell_type": "code",
      "metadata": {
        "id": "chdtmmUKLIPU"
      },
      "source": [
        "!pip install gym\n",
        "!apt-get install python-opengl -y\n",
        "!apt install xvfb -y"
      ],
      "execution_count": null,
      "outputs": []
    },
    {
      "cell_type": "markdown",
      "metadata": {
        "id": "dksNra3sSJKS"
      },
      "source": [
        "pyvirtualdisplayを使ってGymの環境を表示することができます。\n",
        "####【おまじない】1度だけ実行すればいいです。"
      ]
    },
    {
      "cell_type": "code",
      "metadata": {
        "id": "6i5W-gG3LmjD"
      },
      "source": [
        "!pip install pyvirtualdisplay\n",
        "!pip install piglet"
      ],
      "execution_count": null,
      "outputs": []
    },
    {
      "cell_type": "markdown",
      "metadata": {
        "id": "uLqoW2baSul0"
      },
      "source": [
        "virtual displayをアクティブにするには下のスクリプトを一度だけ走らせる必要があります。【おまじない】"
      ]
    },
    {
      "cell_type": "code",
      "metadata": {
        "id": "xyDw1VwWLy3b"
      },
      "source": [
        "from pyvirtualdisplay import Display\n",
        "display = Display(visible=0, size=(1400, 900))\n",
        "display.start()"
      ],
      "execution_count": null,
      "outputs": []
    },
    {
      "cell_type": "markdown",
      "metadata": {
        "id": "-B9D2OHCTUWa"
      },
      "source": [
        "#### Windowの人は実行します。\n",
        "virtual displayを作るにはこれも走らせる必要があります。【おまじない】\n",
        "#### Mac, Linuxの人は実行しません。"
      ]
    },
    {
      "cell_type": "code",
      "metadata": {
        "id": "FQM-jP7-L-qB"
      },
      "source": [
        "# This code creates a virtual display to draw game images on. \n",
        "# If you are running locally, just ignore it\n",
        "import os\n",
        "if type(os.environ.get(\"DISPLAY\")) is not str or len(os.environ.get(\"DISPLAY\"))==0:\n",
        "    !bash ../xvfb start\n",
        "    %env DISPLAY=:1"
      ],
      "execution_count": null,
      "outputs": []
    },
    {
      "cell_type": "markdown",
      "metadata": {
        "id": "2o4UN34RTyta"
      },
      "source": [
        "必要なモジュールをインポートします。"
      ]
    },
    {
      "cell_type": "code",
      "metadata": {
        "id": "Iie3qh-tMCMO"
      },
      "source": [
        "import gym\n",
        "from gym import logger as gymlogger\n",
        "from gym.wrappers import Monitor\n",
        "gymlogger.set_level(40) # error only\n",
        "#import tensorflow as tf\n",
        "import numpy as np\n",
        "import random\n",
        "import matplotlib\n",
        "import matplotlib.pyplot as plt\n",
        "%matplotlib inline\n",
        "import math\n",
        "import glob\n",
        "import io\n",
        "import base64\n",
        "from IPython.display import HTML\n",
        "\n",
        "from IPython import display as ipythondisplay"
      ],
      "execution_count": null,
      "outputs": []
    },
    {
      "cell_type": "markdown",
      "metadata": {
        "id": "zYNBiDJ_UEcq"
      },
      "source": [
        "show_video()とwrap_env(env)という関数を定義します。"
      ]
    },
    {
      "cell_type": "code",
      "metadata": {
        "id": "D3pk6irkMPIp"
      },
      "source": [
        "def show_video():\n",
        "  mp4list = glob.glob('video/*.mp4')\n",
        "  if len(mp4list) > 0:\n",
        "    mp4 = mp4list[0]\n",
        "    video = io.open(mp4, 'r+b').read()\n",
        "    encoded = base64.b64encode(video)\n",
        "    ipythondisplay.display(HTML(data='''<video alt=\"test\" autoplay \n",
        "                loop controls style=\"height: 400px;\">\n",
        "                <source src=\"data:video/mp4;base64,{0}\" type=\"video/mp4\" />\n",
        "             </video>'''.format(encoded.decode('ascii'))))\n",
        "  else: \n",
        "    print(\"Could not find video\")\n",
        "    \n",
        "\n",
        "def wrap_env(env):\n",
        "  env = Monitor(env, './video', force=True)\n",
        "  return env"
      ],
      "execution_count": null,
      "outputs": []
    },
    {
      "cell_type": "markdown",
      "metadata": {
        "id": "sshkFfgrRjIU"
      },
      "source": [
        "ここからが自分で作る部分です。"
      ]
    },
    {
      "cell_type": "markdown",
      "metadata": {
        "id": "C0z_OLPIYT-5"
      },
      "source": [
        "## ランダムエージェント"
      ]
    },
    {
      "cell_type": "code",
      "metadata": {
        "id": "zo1ekHtLKG6r"
      },
      "source": [
        "import gym\n",
        "\n",
        "env = gym.make('CartPole-v1')\n",
        "env = wrap_env(env)\n",
        "observation = env.reset()\n",
        "time = 0\n",
        "\n",
        "while True:\n",
        "    time += 1\n",
        "    print(\"Step: {}\".format(time))\n",
        "    env.render()\n",
        "    action = env.action_space.sample()\n",
        "    observasion, reward, done, info = env.step(action)\n",
        "\n",
        "    if done:\n",
        "        break\n",
        "    \n",
        "env.close()\n",
        "show_video()"
      ],
      "execution_count": null,
      "outputs": []
    },
    {
      "cell_type": "code",
      "metadata": {
        "id": "npFz38SgmxlN"
      },
      "source": [
        "import gym\n",
        "\n",
        "env = gym.make('CartPole-v1')\n",
        "env = wrap_env(env)\n",
        "steps = []\n",
        "\n",
        "for episode in range(20):\n",
        "    observation = env.reset()\n",
        "    step = 0\n",
        "    #for step in range(100):\n",
        "    while True:\n",
        "        env.render()\n",
        "        action = env.action_space.sample()\n",
        "        observasion, reward, done, info = env.step(action)\n",
        "\n",
        "        if done:\n",
        "            print(\"Episode {} finished after {} timesteps\".format(episode + 1, step+1))\n",
        "            break\n",
        "        step += 1\n",
        "    steps.append(step+1)\n",
        "env.close()\n",
        "show_video()"
      ],
      "execution_count": null,
      "outputs": []
    },
    {
      "cell_type": "code",
      "metadata": {
        "id": "VD2ZsCVDnX5u"
      },
      "source": [
        "import matplotlib.pyplot as plt\n",
        "%matplotlib inline\n",
        "\n",
        "plt.figure()\n",
        "plt.plot(steps)\n",
        "plt.xlabel(\"Episode - 1\")\n",
        "plt.ylabel(\"Step\")\n",
        "plt.show()"
      ],
      "execution_count": null,
      "outputs": []
    },
    {
      "cell_type": "markdown",
      "metadata": {
        "id": "GsiEbiKKYbQh"
      },
      "source": [
        "## if-thenルールエージェント"
      ]
    },
    {
      "cell_type": "code",
      "metadata": {
        "id": "64GEmYeAXm7K"
      },
      "source": [
        "import gym\n",
        "env = gym.make('CartPole-v1')\n",
        "env = wrap_env(env)\n",
        "steps = []\n",
        "for episode in range(20):\n",
        "    observation = env.reset()\n",
        "    #for step in range(100):\n",
        "    step = 0\n",
        "    while True:\n",
        "        env.render()\n",
        "        #print(observation)\n",
        "        _,_,th,_ = observation\n",
        "        \n",
        "        if th < 0:\n",
        "            action = 0\n",
        "        else:\n",
        "            action = 1\n",
        "        observation, reward, done, info = env.step(action)\n",
        "        if done: \n",
        "            print(\"Episode {} finished after {} timesteps\".format(episode + 1, step+1))\n",
        "            break\n",
        "        step += 1\n",
        "    steps.append(step+1)\n",
        "env.close()\n",
        "show_video()"
      ],
      "execution_count": null,
      "outputs": []
    },
    {
      "cell_type": "code",
      "metadata": {
        "id": "giFAPZYTYCtJ"
      },
      "source": [
        "import matplotlib.pyplot as plt\n",
        "%matplotlib inline\n",
        "\n",
        "plt.figure()\n",
        "plt.plot(steps)\n",
        "plt.xlabel(\"Episode\")\n",
        "plt.ylabel(\"Step\")\n",
        "plt.show()"
      ],
      "execution_count": null,
      "outputs": []
    },
    {
      "cell_type": "markdown",
      "metadata": {
        "id": "oTPUOArMYh65"
      },
      "source": [
        "# Q学習エージェント"
      ]
    },
    {
      "cell_type": "code",
      "metadata": {
        "id": "leqyHplEZBZ4"
      },
      "source": [
        "import gym\n",
        "import numpy as np\n",
        "import random\n",
        "\n",
        "class Agent:\n",
        "    def __init__(self):\n",
        "        self.Q = np.zeros((5**4,2))\n",
        "        self.last_s = None\n",
        "        self.last_a = None\n",
        "    def quantize5(self, x, a, b):\n",
        "        if x < -a:\n",
        "            return 0\n",
        "        elif x < -b:\n",
        "            return 1\n",
        "        elif x <= b:\n",
        "            return 2\n",
        "        elif x <= a:\n",
        "            return 3\n",
        "        else:\n",
        "            return 4\n",
        "    def quantize(self, obs):\n",
        "        pos = self.quantize5(obs[0], 1.2, 0.2)\n",
        "        vel = self.quantize5(obs[1], 1.5, 0.2)\n",
        "        ang = self.quantize5(obs[2], 0.25, 0.02)\n",
        "        acc = self.quantize5(obs[3], 1.0, 0.2)\n",
        "        return pos + vel * 5 + ang * 25 + acc * 125\n",
        "    def action(self, obs, episode, reward):\n",
        "        s = self.quantize(obs)\n",
        "        if random.random() > 0.5 * (1 / (episode + 1)):\n",
        "            a = np.argmax(self.Q[s,:])\n",
        "        else:\n",
        "            a = random.randint(0,1)\n",
        "        if self.last_s is not None:\n",
        "            q = self.Q[self.last_s, self.last_a]\n",
        "            q = q + 0.2 * (reward + 0.99 * np.max(self.Q[s,:]) - q)\n",
        "            self.Q[self.last_s, self.last_a] = q\n",
        "        self.last_s = s\n",
        "        self.last_a = a\n",
        "        return a"
      ],
      "execution_count": null,
      "outputs": []
    },
    {
      "cell_type": "code",
      "metadata": {
        "id": "F3c5sHP5ZGpJ"
      },
      "source": [
        "agent = Agent()\n",
        "\n",
        "env = gym.make('CartPole-v1')\n",
        "env = wrap_env(env)\n",
        "steps = []\n",
        "for episode in range(100):\n",
        "    observation = env.reset()\n",
        "    reward = 0\n",
        "    step = 0\n",
        "    #done = 0\n",
        "    #while True:\n",
        "    for step in range(1000):\n",
        "        env.render()\n",
        "        action = agent.action(observation, episode, reward)\n",
        "        observation, reward, done, info = env.step(action)\n",
        "        if done:\n",
        "            if step < 200:\n",
        "                agent.action(observation, episode, -200)\n",
        "            else:\n",
        "                agent.action(observation, episode,  1)\n",
        "            break\n",
        "\n",
        "        step += 1\n",
        "    print('Episode {} finished after {} timesteps'.format(episode+1, step+1))\n",
        "    steps.append(step+1)\n",
        "env.close()\n",
        "show_video()\n"
      ],
      "execution_count": null,
      "outputs": []
    },
    {
      "cell_type": "code",
      "metadata": {
        "id": "NCHB3t3iZcQ4"
      },
      "source": [
        "import matplotlib.pyplot as plt\n",
        "%matplotlib inline\n",
        "\n",
        "plt.figure()\n",
        "plt.plot(steps)\n",
        "plt.xlabel(\"Episode\")\n",
        "plt.ylabel(\"Step\")\n",
        "plt.show()"
      ],
      "execution_count": null,
      "outputs": []
    }
  ]
}