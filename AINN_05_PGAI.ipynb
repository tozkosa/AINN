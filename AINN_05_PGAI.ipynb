{
 "cells": [
  {
   "cell_type": "markdown",
   "metadata": {
    "colab_type": "text",
    "id": "5KMxw4fJrXjA"
   },
   "source": [
    "# 迷路を走る方策勾配法エージェント\n",
    "参考文献：小川雄太郎著「つくりながら学ぶ！深層強化学習」<br>\n",
    "Tomoko Ozeki"
   ]
  },
  {
   "cell_type": "code",
   "execution_count": null,
   "metadata": {
    "colab": {},
    "colab_type": "code",
    "id": "Whv2mbt5rXjB"
   },
   "outputs": [],
   "source": [
    "import numpy as np\n",
    "import matplotlib.pyplot as plt\n",
    "%matplotlib inline"
   ]
  },
  {
   "cell_type": "markdown",
   "metadata": {
    "colab_type": "text",
    "id": "WRvlAvYJrXjI"
   },
   "source": [
    "## 環境：迷路を作る"
   ]
  },
  {
   "cell_type": "code",
   "execution_count": null,
   "metadata": {
    "colab": {
     "base_uri": "https://localhost:8080/",
     "height": 324
    },
    "colab_type": "code",
    "id": "VVhdMCr9rXjI",
    "outputId": "e54d4b58-f111-4695-f0ba-8796d157353b"
   },
   "outputs": [],
   "source": [
    "# 図を描く大きさと図の変数名を宣言\n",
    "fig = plt.figure(figsize=((5,5)))\n",
    "ax = plt.gca()\n",
    "\n",
    "# 赤い壁を描く\n",
    "plt.plot([1,1], [0,1], color='red', linewidth=2)\n",
    "plt.plot([1,2], [2,2], color='red', linewidth=2)\n",
    "plt.plot([2,2], [2,1], color='red', linewidth=2)\n",
    "plt.plot([2,3], [1,1], color='red', linewidth=2)\n",
    "\n",
    "# 状態を示す文字S0~S8を描く\n",
    "plt.text(0.5, 2.5, 'S0', size=14, ha='center')\n",
    "plt.text(1.5, 2.5, 'S1', size=14, ha='center')\n",
    "plt.text(2.5, 2.5, 'S2', size=14, ha='center')\n",
    "plt.text(0.5, 1.5, 'S3', size=14, ha='center')\n",
    "plt.text(1.5, 1.5, 'S4', size=14, ha='center')\n",
    "plt.text(2.5, 1.5, 'S5', size=14, ha='center')\n",
    "plt.text(0.5, 0.5, 'S6', size=14, ha='center')\n",
    "plt.text(1.5, 0.5, 'S7', size=14, ha='center')\n",
    "plt.text(2.5, 0.5, 'S8', size=14, ha='center')\n",
    "plt.text(0.5, 2.3, 'START', ha='center')\n",
    "plt.text(2.5, 0.3, 'GOAL', ha='center')\n",
    "\n",
    "# 描画範囲の設定と目盛りを消す設定\n",
    "ax.set_xlim(0, 3)\n",
    "ax.set_ylim(0, 3)\n",
    "plt.tick_params(axis='both', which='both', bottom='off', top='off',\n",
    "               labelbottom='off', right='off', left='off', labelleft='off')\n",
    "\n",
    "# 現在地S0に緑丸を描画する\n",
    "line, = ax.plot([0.5], [2.5], marker=\"o\", color='c', markersize=60)\n",
    "plt.show()"
   ]
  },
  {
   "cell_type": "markdown",
   "metadata": {
    "colab_type": "text",
    "id": "3BULm6cOrXjM"
   },
   "source": [
    "## エージェントを作る"
   ]
  },
  {
   "cell_type": "markdown",
   "metadata": {
    "colab_type": "text",
    "id": "UBUJmHFyrXjN"
   },
   "source": [
    "### パラメータの初期値\n",
    "行は状態 0~7，列は行動　up, right, down, left"
   ]
  },
  {
   "cell_type": "code",
   "execution_count": null,
   "metadata": {
    "colab": {},
    "colab_type": "code",
    "id": "tRrdK-fHrXjN"
   },
   "outputs": [],
   "source": [
    "theta_0 = np.array([[np.nan, 1, 1, np.nan],     #S0\n",
    "                   [np.nan, 1, np.nan, 1],      #S1\n",
    "                   [np.nan, np.nan, 1, 1],      #S2\n",
    "                   [1, 1, 1, np.nan],           #S3\n",
    "                   [np.nan, np.nan, 1, 1],      #S4\n",
    "                   [1, np.nan, np.nan, np.nan], #S5\n",
    "                   [1, np.nan, np.nan, np.nan], #S6 \n",
    "                   [1, 1, np.nan, np.nan]\n",
    "                   ])"
   ]
  },
  {
   "cell_type": "markdown",
   "metadata": {
    "colab_type": "text",
    "id": "AyQuPdQgrXjQ"
   },
   "source": [
    "### パラメータを方策に変換する関数*\n",
    "ソフトマックス関数を用いる"
   ]
  },
  {
   "cell_type": "code",
   "execution_count": null,
   "metadata": {
    "colab": {},
    "colab_type": "code",
    "id": "pOv_QviNrXjQ"
   },
   "outputs": [],
   "source": [
    "def theta2pi_softmax(theta):\n",
    "    '''ソフトマックス関数で割合を計算する'''\n",
    "    \n",
    "    beta = 1.0\n",
    "    [m, n] = theta.shape # 行列のサイズを取得\n",
    "    pi = np.zeros((m, n))\n",
    "    \n",
    "    exp_theta = np.exp(beta * theta) # thetaをexp(theta)へ\n",
    "    \n",
    "    for i in range(0, m):\n",
    "        # pi[i, :] = theta[i, :] / np.nansum(theta[i, :]) 前回\n",
    "        pi[i, :] = exp_theta[i, :] / np.nansum(exp_theta[i, :])\n",
    "        \n",
    "    pi = np.nan_to_num(pi) # nanを0に変換する\n",
    "    \n",
    "    return pi"
   ]
  },
  {
   "cell_type": "markdown",
   "metadata": {
    "colab_type": "text",
    "id": "gufoiH1urXjT"
   },
   "source": [
    "### パラメータを方策に変換*"
   ]
  },
  {
   "cell_type": "code",
   "execution_count": null,
   "metadata": {
    "colab": {
     "base_uri": "https://localhost:8080/",
     "height": 158
    },
    "colab_type": "code",
    "id": "KmnkXVzsrXjT",
    "outputId": "96c9a782-e766-4727-9cad-73dec6ba28aa"
   },
   "outputs": [],
   "source": [
    "pi_0 = theta2pi_softmax(theta_0)\n",
    "print(pi_0)"
   ]
  },
  {
   "cell_type": "markdown",
   "metadata": {
    "colab_type": "text",
    "id": "m0i05Y9grXjW"
   },
   "source": [
    "### 行動を選択し、次の状態へ移る*"
   ]
  },
  {
   "cell_type": "code",
   "execution_count": null,
   "metadata": {
    "colab": {},
    "colab_type": "code",
    "id": "ddSHUM01rXjX"
   },
   "outputs": [],
   "source": [
    "def get_next_s_a(pi, s):\n",
    "    direction = [\"up\", \"right\", \"down\", \"left\"]\n",
    "    \n",
    "    next_direction = np.random.choice(direction, p=pi[s, :])\n",
    "    # pi[s, :] の確率にしたがって，directionを選択する\n",
    "    \n",
    "    if next_direction == \"up\":\n",
    "        action = 0                   # 新たに加えたところ\n",
    "        s_next = s - 3\n",
    "    elif next_direction == \"right\":\n",
    "        action = 1\n",
    "        s_next = s + 1\n",
    "    elif next_direction == \"down\":\n",
    "        action = 2\n",
    "        s_next = s + 3\n",
    "    else:\n",
    "        action = 3\n",
    "        s_next = s - 1\n",
    "    \n",
    "    return [action, s_next]         # actionを追加"
   ]
  },
  {
   "cell_type": "markdown",
   "metadata": {
    "colab_type": "text",
    "id": "S-DdFsidrXja"
   },
   "source": [
    "### 迷路内をエージェントがゴールするまで移動する関数*\n",
    "状態だけでなく行動も保存する"
   ]
  },
  {
   "cell_type": "code",
   "execution_count": null,
   "metadata": {
    "colab": {},
    "colab_type": "code",
    "id": "zFtBuvjtrXjb"
   },
   "outputs": [],
   "source": [
    "def goal_maze(pi):\n",
    "    s = 0\n",
    "    s_a_history = [[0, np.nan]] # エージェントの移動を記録するリスト\n",
    "    \n",
    "    while(1): # ゴールするまで繰り返す\n",
    "        [action, next_s] = get_next_s_a(pi, s)\n",
    "        s_a_history[-1][1] = action\n",
    "        # 現在の状態（つまり一番最後なのでindex=-1）の行動を代入\n",
    "        \n",
    "        s_a_history.append([next_s, np.nan]) \n",
    "        # 記録リストに次の状態を追加、行動はまだわからないのでnanとする。\n",
    "        \n",
    "        if next_s == 8:  # ゴールならエピソード終了\n",
    "            break\n",
    "        else:\n",
    "            s = next_s\n",
    "        \n",
    "    return s_a_history"
   ]
  },
  {
   "cell_type": "markdown",
   "metadata": {
    "colab_type": "text",
    "id": "IjRGIk-UrXjd"
   },
   "source": [
    "### ゴールをめざして進む*\n",
    "thetaの更新なし→ランダムエージェント"
   ]
  },
  {
   "cell_type": "code",
   "execution_count": null,
   "metadata": {
    "colab": {
     "base_uri": "https://localhost:8080/",
     "height": 72
    },
    "colab_type": "code",
    "id": "KYmQIB3GrXjd",
    "outputId": "74128be6-01f9-43d2-d98e-e0a05a001e8f"
   },
   "outputs": [],
   "source": [
    "s_a_history = goal_maze(pi_0)\n",
    "\n",
    "print(s_a_history)\n",
    "print(\"迷路を解くのにかかったステップ数は\" + str(len(s_a_history) - 1) + \"です\")"
   ]
  },
  {
   "cell_type": "markdown",
   "metadata": {
    "colab_type": "text",
    "id": "1GTn8dD8sVKe"
   },
   "source": [
    "## 方策勾配法"
   ]
  },
  {
   "cell_type": "markdown",
   "metadata": {
    "colab_type": "text",
    "id": "lkjBnIGrrXji"
   },
   "source": [
    "### thetaの更新式"
   ]
  },
  {
   "cell_type": "code",
   "execution_count": null,
   "metadata": {
    "colab": {},
    "colab_type": "code",
    "id": "ENweQDVgrXji"
   },
   "outputs": [],
   "source": [
    "def update_theta(theta, pi, s_a_history):\n",
    "    eta = 0.1 # 学習率\n",
    "    T = len(s_a_history) - 1 # 総ステップ数\n",
    "    \n",
    "    [m, n] = theta.shape\n",
    "    delta_theta = theta.copy() # ポインタなので delta_theta = thetaとできない\n",
    "    \n",
    "    # delta_thetaを要素ごとに求める\n",
    "    for i in range(0, m):\n",
    "        for j in range(0, n):\n",
    "            if not(np.isnan(theta[i, j])): # thetaがnanでないとき\n",
    "                \n",
    "                SA_i = [SA for SA in s_a_history if SA[0] == i]\n",
    "                # 履歴から状態iのものを取り出す\n",
    "                SA_ij = [SA for SA in s_a_history if SA == [i, j]]\n",
    "                \n",
    "                N_i = len(SA_i)  # 状態iで行動した総回数\n",
    "                N_ij = len(SA_ij) # 状態iで行動jをとった回数\n",
    "                delta_theta[i, j] = (N_ij + pi[i, j] * N_i) / T\n",
    "    new_theta = theta + eta * delta_theta\n",
    "    \n",
    "    return new_theta             "
   ]
  },
  {
   "cell_type": "markdown",
   "metadata": {
    "colab_type": "text",
    "id": "CJok_HO1rXjl"
   },
   "source": [
    "###方策の更新"
   ]
  },
  {
   "cell_type": "code",
   "execution_count": null,
   "metadata": {
    "colab": {
     "base_uri": "https://localhost:8080/",
     "height": 158
    },
    "colab_type": "code",
    "id": "-Pn5_IJPrXjm",
    "outputId": "a70b7d4f-daec-4adb-d09f-03c2ab681ad6"
   },
   "outputs": [],
   "source": [
    "new_theta = update_theta(theta_0, pi_0, s_a_history)\n",
    "pi = theta2pi_softmax(new_theta)\n",
    "print(pi)"
   ]
  },
  {
   "cell_type": "markdown",
   "metadata": {
    "colab_type": "text",
    "id": "kI9eHpRZrXjp"
   },
   "source": [
    "### 方策勾配法で迷路を解く"
   ]
  },
  {
   "cell_type": "code",
   "execution_count": null,
   "metadata": {
    "colab": {
     "base_uri": "https://localhost:8080/",
     "height": 1000
    },
    "colab_type": "code",
    "id": "qFpKmJSurXjq",
    "outputId": "4a7806c1-4c4b-4bbc-e4e8-cbc770dc6c16"
   },
   "outputs": [],
   "source": [
    "stop_epsilon = 10**-8 # 10^-8よりも方策に変化が少なくなったら学習終了\n",
    "\n",
    "theta = theta_0\n",
    "pi = pi_0\n",
    "\n",
    "is_continue = True\n",
    "count = 1\n",
    "while is_continue:\n",
    "    s_a_history = goal_maze(pi)\n",
    "    new_theta = update_theta(theta, pi, s_a_history)\n",
    "    new_pi = theta2pi_softmax(new_theta)\n",
    "    \n",
    "    print(np.sum(np.abs(new_pi - pi))) # 方策の変化を出力\n",
    "    print(\"迷路を解くのにかかったステップ数は\" + str(len(s_a_history) - 1) + \"です\")\n",
    "    \n",
    "    if np.sum(np.abs(new_pi - pi)) < stop_epsilon:\n",
    "        is_continue = False\n",
    "    else:\n",
    "        theta = new_theta\n",
    "        pi = new_pi"
   ]
  },
  {
   "cell_type": "markdown",
   "metadata": {
    "colab_type": "text",
    "id": "pSkc0VQDrXjs"
   },
   "source": [
    "最終的な方策を確認"
   ]
  },
  {
   "cell_type": "code",
   "execution_count": null,
   "metadata": {
    "colab": {
     "base_uri": "https://localhost:8080/",
     "height": 158
    },
    "colab_type": "code",
    "id": "pCdikoFlrXjs",
    "outputId": "b569daaa-cdea-4cdb-981c-9076a49cbbeb"
   },
   "outputs": [],
   "source": [
    "np.set_printoptions(precision=3, suppress=True) # 有効桁数３，指数表示しない\n",
    "print(pi)"
   ]
  },
  {
   "cell_type": "markdown",
   "metadata": {
    "colab_type": "text",
    "id": "eqbmIC95rXjv"
   },
   "source": [
    "## アニメーションを作る\n",
    "参考URL http://louistiao.me/posts/notebooks/embedding-matplotlib-animations-in-jupyter-as-interactive-javascript-widgets/"
   ]
  },
  {
   "cell_type": "code",
   "execution_count": null,
   "metadata": {
    "colab": {},
    "colab_type": "code",
    "id": "FyWFkkKvrXjv"
   },
   "outputs": [],
   "source": [
    "from matplotlib import animation\n",
    "from IPython.display import HTML"
   ]
  },
  {
   "cell_type": "code",
   "execution_count": null,
   "metadata": {
    "colab": {
     "base_uri": "https://localhost:8080/",
     "height": 458
    },
    "colab_type": "code",
    "id": "2nH82LCjrXjy",
    "outputId": "dcca4d35-d3d0-4738-ed68-c2eb9795ab75"
   },
   "outputs": [],
   "source": [
    "def init():\n",
    "    '''背景画像の初期化'''\n",
    "    line.set_data([], [])\n",
    "    return (line,)\n",
    "\n",
    "def animate(i):\n",
    "    '''フレームごとの描画内容'''\n",
    "    state = s_a_history[i][0] # 現在の場所を描く\n",
    "    x = (state % 3) + 0.5    # 状態のx座標\n",
    "    y = 2.5 - int(state / 3) # 状態のy座標\n",
    "    line.set_data(x, y)\n",
    "    return (line)\n",
    "\n",
    "# 初期化関数とフレームごとの描画関数を用いて動画を作成する\n",
    "anim = animation.FuncAnimation(fig, animate, init_func=init, frames=len(s_a_history), interval=200, repeat=False)\n",
    "\n",
    "HTML(anim.to_jshtml())"
   ]
  }
 ],
 "metadata": {
  "colab": {
   "name": "AINN_05_PGAI.ipynb",
   "provenance": [],
   "toc_visible": true
  },
  "kernelspec": {
   "display_name": "Python 3",
   "language": "python",
   "name": "python3"
  },
  "language_info": {
   "codemirror_mode": {
    "name": "ipython",
    "version": 3
   },
   "file_extension": ".py",
   "mimetype": "text/x-python",
   "name": "python",
   "nbconvert_exporter": "python",
   "pygments_lexer": "ipython3",
   "version": "3.7.7"
  }
 },
 "nbformat": 4,
 "nbformat_minor": 1
}
