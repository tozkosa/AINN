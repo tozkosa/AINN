{
  "nbformat": 4,
  "nbformat_minor": 0,
  "metadata": {
    "kernelspec": {
      "display_name": "Python 3",
      "language": "python",
      "name": "python3"
    },
    "language_info": {
      "codemirror_mode": {
        "name": "ipython",
        "version": 3
      },
      "file_extension": ".py",
      "mimetype": "text/x-python",
      "name": "python",
      "nbconvert_exporter": "python",
      "pygments_lexer": "ipython3",
      "version": "3.7.7"
    },
    "colab": {
      "name": "AINN_09.ipynb",
      "private_outputs": true,
      "provenance": [],
      "toc_visible": true
    }
  },
  "cells": [
    {
      "cell_type": "markdown",
      "metadata": {
        "id": "RVE94LuYZDj_"
      },
      "source": [
        "# Classification of MNIST dataset\n",
        "# MNISTデータセットの分類"
      ]
    },
    {
      "cell_type": "code",
      "metadata": {
        "id": "cAK6_Bx-ZDkA"
      },
      "source": [
        "from tensorflow.keras.datasets import mnist\n",
        "from tensorflow.keras.models import Sequential\n",
        "from tensorflow.keras.layers import Activation, Dense, Dropout\n",
        "from tensorflow.keras.optimizers import SGD\n",
        "from tensorflow.keras.utils import to_categorical\n",
        "import matplotlib.pyplot as plt\n",
        "import numpy as np"
      ],
      "execution_count": null,
      "outputs": []
    },
    {
      "cell_type": "markdown",
      "metadata": {
        "id": "uY0KpCAlZDkE"
      },
      "source": [
        "## Data preparation and check\n",
        "## データセットの準備と確認"
      ]
    },
    {
      "cell_type": "code",
      "metadata": {
        "id": "YH-l7AVwZDkE"
      },
      "source": [
        "(train_images, train_labels), (test_images, test_labels) = mnist.load_data()"
      ],
      "execution_count": null,
      "outputs": []
    },
    {
      "cell_type": "code",
      "metadata": {
        "id": "eKHd63e2ZDkH"
      },
      "source": [
        "print(train_images.shape)\n",
        "print(train_labels.shape)\n",
        "print(test_images.shape)\n",
        "print(test_labels.shape)"
      ],
      "execution_count": null,
      "outputs": []
    },
    {
      "cell_type": "code",
      "metadata": {
        "id": "BTqVMDPAZDkJ"
      },
      "source": [
        "for i in range(10):\n",
        "    plt.subplot(1, 10, i+1)\n",
        "    plt.imshow(train_images[i], 'gray')\n",
        "plt.show()"
      ],
      "execution_count": null,
      "outputs": []
    },
    {
      "cell_type": "code",
      "metadata": {
        "id": "fMpmdTsAZDkM"
      },
      "source": [
        "print(train_labels[0:10])"
      ],
      "execution_count": null,
      "outputs": []
    },
    {
      "cell_type": "markdown",
      "metadata": {
        "id": "rogH-UjFZDkO"
      },
      "source": [
        "## Preprocessing and checking\n",
        "## データセットの前処理と確認"
      ]
    },
    {
      "cell_type": "markdown",
      "metadata": {
        "id": "jki9KffDZDkO"
      },
      "source": [
        "Preprocessing for image dataset\n",
        "データセットの画像の前処理"
      ]
    },
    {
      "cell_type": "code",
      "metadata": {
        "id": "btNe0WbLZDkO"
      },
      "source": [
        "train_images = train_images.reshape((train_images.shape[0], 784))\n",
        "test_images = test_images.reshape((test_images.shape[0], 784))"
      ],
      "execution_count": null,
      "outputs": []
    },
    {
      "cell_type": "markdown",
      "metadata": {
        "id": "nV78E09gZDkQ"
      },
      "source": [
        "Check the shape of the preprocessed data, データセットの画像の前処理後のシェイプの確認"
      ]
    },
    {
      "cell_type": "code",
      "metadata": {
        "id": "tmZCnEMYZDkR"
      },
      "source": [
        "print(train_images.shape)\n",
        "print(test_images.shape)"
      ],
      "execution_count": null,
      "outputs": []
    },
    {
      "cell_type": "markdown",
      "metadata": {
        "id": "7g7H9mY_ZDkS"
      },
      "source": [
        "Preprocessing for labels, データセットのラベルの前処理"
      ]
    },
    {
      "cell_type": "code",
      "metadata": {
        "id": "HQbuGtPhZDkT"
      },
      "source": [
        "train_labels = to_categorical(train_labels)\n",
        "test_labels = to_categorical(test_labels)"
      ],
      "execution_count": null,
      "outputs": []
    },
    {
      "cell_type": "markdown",
      "metadata": {
        "id": "FPP5LDk-ZDkU"
      },
      "source": [
        "Check the shape of preprocessed labels, データセットのラベルの前処理後のシェイプの確認"
      ]
    },
    {
      "cell_type": "code",
      "metadata": {
        "id": "xkFOM0UvZDkV"
      },
      "source": [
        "print(train_labels.shape)\n",
        "print(test_labels.shape)"
      ],
      "execution_count": null,
      "outputs": []
    },
    {
      "cell_type": "markdown",
      "metadata": {
        "id": "AYotVYSJZDkW"
      },
      "source": [
        "## Building a model\n",
        "## モデルの作成"
      ]
    },
    {
      "cell_type": "code",
      "metadata": {
        "id": "Hj2W4EJrZDkX"
      },
      "source": [
        "model = Sequential()\n",
        "model.add(Dense(256, activation='sigmoid', input_shape=(784,))) # 入力層\n",
        "model.add(Dense(128, activation='sigmoid'))                     #\n",
        "model.add(Dropout(rate=0.5))                                    #\n",
        "model.add(Dense(10, activation='softmax'))                      # 出力層\n"
      ],
      "execution_count": null,
      "outputs": []
    },
    {
      "cell_type": "markdown",
      "metadata": {
        "id": "9t22J9eqZDkZ"
      },
      "source": [
        "## Compile the model\n",
        "## コンパイル"
      ]
    },
    {
      "cell_type": "code",
      "metadata": {
        "id": "G5TbsorPZDkZ"
      },
      "source": [
        "model.compile(loss='categorical_crossentropy', optimizer=SGD(learning_rate=0.1), metrics=['acc'])"
      ],
      "execution_count": null,
      "outputs": []
    },
    {
      "cell_type": "markdown",
      "metadata": {
        "id": "bwjLYyBBZDkb"
      },
      "source": [
        "## Training\n",
        "## 学習"
      ]
    },
    {
      "cell_type": "code",
      "metadata": {
        "id": "8k1ttSExZDkb"
      },
      "source": [
        "history = model.fit(train_images, train_labels, batch_size=500, epochs=5, validation_split=0.2)"
      ],
      "execution_count": null,
      "outputs": []
    },
    {
      "cell_type": "markdown",
      "metadata": {
        "id": "z-I3zUT5ZDkd"
      },
      "source": [
        "## Visualization of learning process\n",
        "## グラフの表示"
      ]
    },
    {
      "cell_type": "code",
      "metadata": {
        "id": "k6cN8dR7ZDkd"
      },
      "source": [
        "plt.plot(history.history['acc'], label='acc')\n",
        "plt.plot(history.history['val_acc'], label='val_acc')\n",
        "plt.ylabel('accuracy')\n",
        "plt.xlabel('epoch')\n",
        "plt.legend(loc='best')\n",
        "plt.show()"
      ],
      "execution_count": null,
      "outputs": []
    },
    {
      "cell_type": "markdown",
      "metadata": {
        "id": "ZqsDYEr0ZDkf"
      },
      "source": [
        "## Evaluation\n",
        "## 評価"
      ]
    },
    {
      "cell_type": "code",
      "metadata": {
        "id": "VDePwWxKZDkf"
      },
      "source": [
        "test_loss, test_acc = model.evaluate(test_images, test_labels)\n",
        "print('loss: {:.3f}\\nacc: {:.3f}'.format(test_loss, test_acc))"
      ],
      "execution_count": null,
      "outputs": []
    },
    {
      "cell_type": "markdown",
      "metadata": {
        "id": "4oW_KonPZDkh"
      },
      "source": [
        "## Prediction\n",
        "## 推論"
      ]
    },
    {
      "cell_type": "code",
      "metadata": {
        "id": "ohcIuM5CZDkh"
      },
      "source": [
        "for i in range(10):\n",
        "    plt.subplot(1, 10, i+1)\n",
        "    plt.imshow(test_images[i].reshape((28, 28)), 'gray')\n",
        "plt.show()\n",
        "\n",
        "test_predictions = model.predict(test_images[0:10])\n",
        "test_predictions = np.argmax(test_predictions, axis=1)\n",
        "true_labels = np.argmax(test_labels[0:10], axis=1)\n",
        "print(\"Predictions : {}\".format(test_predictions))\n",
        "print(\"True labels : {}\".format(true_labels))"
      ],
      "execution_count": null,
      "outputs": []
    }
  ]
}