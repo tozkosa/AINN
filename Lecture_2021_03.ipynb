{
  "nbformat": 4,
  "nbformat_minor": 0,
  "metadata": {
    "colab": {
      "name": "Lecture_2021_03.ipynb",
      "provenance": [],
      "collapsed_sections": []
    },
    "kernelspec": {
      "name": "python3",
      "display_name": "Python 3"
    },
    "language_info": {
      "name": "python"
    }
  },
  "cells": [
    {
      "cell_type": "markdown",
      "metadata": {
        "id": "jQAKVvRD9PHm"
      },
      "source": [
        "2021年4月27日（火）2限に行った講義内容です。"
      ]
    },
    {
      "cell_type": "code",
      "metadata": {
        "colab": {
          "base_uri": "https://localhost:8080/"
        },
        "id": "-1zN8YF5GQ1W",
        "outputId": "7d596759-16e4-4930-d2bc-6fd601e749e2"
      },
      "source": [
        "print(\"Hello!\")"
      ],
      "execution_count": null,
      "outputs": [
        {
          "output_type": "stream",
          "text": [
            "Hello!\n"
          ],
          "name": "stdout"
        }
      ]
    },
    {
      "cell_type": "code",
      "metadata": {
        "colab": {
          "base_uri": "https://localhost:8080/"
        },
        "id": "fe7_rdqsGYI3",
        "outputId": "20c1876c-43bf-4095-9bae-7fe112be187d"
      },
      "source": [
        "1+1"
      ],
      "execution_count": null,
      "outputs": [
        {
          "output_type": "execute_result",
          "data": {
            "text/plain": [
              "2"
            ]
          },
          "metadata": {
            "tags": []
          },
          "execution_count": 2
        }
      ]
    },
    {
      "cell_type": "code",
      "metadata": {
        "colab": {
          "base_uri": "https://localhost:8080/"
        },
        "id": "a3sCTYqQGvSc",
        "outputId": "bf7387bb-3c00-4dc7-faac-c4ddb40267f3"
      },
      "source": [
        "2*2*2*2"
      ],
      "execution_count": null,
      "outputs": [
        {
          "output_type": "execute_result",
          "data": {
            "text/plain": [
              "16"
            ]
          },
          "metadata": {
            "tags": []
          },
          "execution_count": 3
        }
      ]
    },
    {
      "cell_type": "code",
      "metadata": {
        "colab": {
          "base_uri": "https://localhost:8080/"
        },
        "id": "UJqaVZYwGzX0",
        "outputId": "568a18a9-049d-42b4-88d8-22dbbe87513e"
      },
      "source": [
        "a = 8\n",
        "b = 2\n",
        "c = a + b\n",
        "print(a, b, c)"
      ],
      "execution_count": null,
      "outputs": [
        {
          "output_type": "stream",
          "text": [
            "8 2 10\n"
          ],
          "name": "stdout"
        }
      ]
    },
    {
      "cell_type": "code",
      "metadata": {
        "colab": {
          "base_uri": "https://localhost:8080/"
        },
        "id": "ERSjAWY6G9QT",
        "outputId": "e38dbe74-9c67-4b28-dfdf-0cf9579e69da"
      },
      "source": [
        "x = 8\n",
        "y = x * 4\n",
        "print(x)\n",
        "print(y)"
      ],
      "execution_count": null,
      "outputs": [
        {
          "output_type": "stream",
          "text": [
            "8\n",
            "32\n"
          ],
          "name": "stdout"
        }
      ]
    },
    {
      "cell_type": "code",
      "metadata": {
        "id": "S9pnmHZoHR4j"
      },
      "source": [
        "# コメント文"
      ],
      "execution_count": null,
      "outputs": []
    },
    {
      "cell_type": "code",
      "metadata": {
        "colab": {
          "base_uri": "https://localhost:8080/"
        },
        "id": "UFslIgiKILbE",
        "outputId": "196f87f3-bd1b-4eda-8ac4-91b9a6cf5e5b"
      },
      "source": [
        "print(\"x = {}\".format(x))\n",
        "print(\"y = {}\".format(y))"
      ],
      "execution_count": null,
      "outputs": [
        {
          "output_type": "stream",
          "text": [
            "x = 8\n",
            "y = 32\n"
          ],
          "name": "stdout"
        }
      ]
    },
    {
      "cell_type": "code",
      "metadata": {
        "colab": {
          "base_uri": "https://localhost:8080/"
        },
        "id": "WS-QvAM0Ijhc",
        "outputId": "ac08172c-b44f-419c-a052-c3dcc5a8918f"
      },
      "source": [
        "my_list = [140, 120, 110, 0]\n",
        "print(my_list)"
      ],
      "execution_count": null,
      "outputs": [
        {
          "output_type": "stream",
          "text": [
            "[140, 120, 110, 0]\n"
          ],
          "name": "stdout"
        }
      ]
    },
    {
      "cell_type": "code",
      "metadata": {
        "colab": {
          "base_uri": "https://localhost:8080/"
        },
        "id": "JPJy0rtgJVcT",
        "outputId": "929a142b-514c-43e6-91dd-f05c95b2b66c"
      },
      "source": [
        "print(my_list[:-1])"
      ],
      "execution_count": null,
      "outputs": [
        {
          "output_type": "stream",
          "text": [
            "[140, 120, 110]\n"
          ],
          "name": "stdout"
        }
      ]
    },
    {
      "cell_type": "code",
      "metadata": {
        "id": "qmsimeM0LQZy"
      },
      "source": [
        "a = [1, 3, 2, 5, 7]"
      ],
      "execution_count": null,
      "outputs": []
    },
    {
      "cell_type": "code",
      "metadata": {
        "id": "f9ixtmJWMBEJ"
      },
      "source": [
        "a[0] = 10"
      ],
      "execution_count": null,
      "outputs": []
    },
    {
      "cell_type": "code",
      "metadata": {
        "colab": {
          "base_uri": "https://localhost:8080/"
        },
        "id": "ticieHl0MGF5",
        "outputId": "b49368ae-e213-4ca9-8ec1-a6674dc6090c"
      },
      "source": [
        "print(a)"
      ],
      "execution_count": null,
      "outputs": [
        {
          "output_type": "stream",
          "text": [
            "[10, 3, 2, 5, 7]\n"
          ],
          "name": "stdout"
        }
      ]
    },
    {
      "cell_type": "code",
      "metadata": {
        "id": "S4wnHynbMILA"
      },
      "source": [
        "a[1:4] = [20, 30]"
      ],
      "execution_count": null,
      "outputs": []
    },
    {
      "cell_type": "code",
      "metadata": {
        "colab": {
          "base_uri": "https://localhost:8080/"
        },
        "id": "VHrC0X6DMVJ-",
        "outputId": "9115b665-3397-4ca1-a7eb-ab77b1f88e18"
      },
      "source": [
        "print(a)"
      ],
      "execution_count": null,
      "outputs": [
        {
          "output_type": "stream",
          "text": [
            "[10, 20, 30, 7]\n"
          ],
          "name": "stdout"
        }
      ]
    },
    {
      "cell_type": "code",
      "metadata": {
        "colab": {
          "base_uri": "https://localhost:8080/"
        },
        "id": "iKXcPoAJMYml",
        "outputId": "4ca60215-ec21-4b52-ad2c-c68ae59df9c1"
      },
      "source": [
        "a = [0, 1, 2, 3]\n",
        "print(a)"
      ],
      "execution_count": null,
      "outputs": [
        {
          "output_type": "stream",
          "text": [
            "[0, 1, 2, 3]\n"
          ],
          "name": "stdout"
        }
      ]
    },
    {
      "cell_type": "code",
      "metadata": {
        "colab": {
          "base_uri": "https://localhost:8080/"
        },
        "id": "F3gZ_DyGMlN0",
        "outputId": "38f18138-26a6-4c2b-c361-09ce72f2eb1b"
      },
      "source": [
        "b = list(range(10))\n",
        "print(b)"
      ],
      "execution_count": null,
      "outputs": [
        {
          "output_type": "stream",
          "text": [
            "[0, 1, 2, 3, 4, 5, 6, 7, 8, 9]\n"
          ],
          "name": "stdout"
        }
      ]
    },
    {
      "cell_type": "code",
      "metadata": {
        "colab": {
          "base_uri": "https://localhost:8080/"
        },
        "id": "oy02IbR8Mzeb",
        "outputId": "2dab05d1-55f5-4aab-ae4d-56b2e81c3291"
      },
      "source": [
        "a = list(range(4))\n",
        "print(a)"
      ],
      "execution_count": null,
      "outputs": [
        {
          "output_type": "stream",
          "text": [
            "[0, 1, 2, 3]\n"
          ],
          "name": "stdout"
        }
      ]
    },
    {
      "cell_type": "code",
      "metadata": {
        "colab": {
          "base_uri": "https://localhost:8080/"
        },
        "id": "4mCD3_MlNCfr",
        "outputId": "ccbdf799-3747-4630-cb74-0012e80a02cf"
      },
      "source": [
        "print(list(range(1,7)))"
      ],
      "execution_count": null,
      "outputs": [
        {
          "output_type": "stream",
          "text": [
            "[1, 2, 3, 4, 5, 6]\n"
          ],
          "name": "stdout"
        }
      ]
    },
    {
      "cell_type": "code",
      "metadata": {
        "colab": {
          "base_uri": "https://localhost:8080/"
        },
        "id": "j3q1lO7XNV-D",
        "outputId": "0a65c296-561e-47c7-f0a8-69cfb6561aa2"
      },
      "source": [
        "print(list(range(1,10, 2)))"
      ],
      "execution_count": null,
      "outputs": [
        {
          "output_type": "stream",
          "text": [
            "[1, 3, 5, 7, 9]\n"
          ],
          "name": "stdout"
        }
      ]
    },
    {
      "cell_type": "code",
      "metadata": {
        "id": "kGfwj0P4NsOT"
      },
      "source": [
        "text = 'Hello, '"
      ],
      "execution_count": null,
      "outputs": []
    },
    {
      "cell_type": "code",
      "metadata": {
        "id": "5d2ObRqXOA8T"
      },
      "source": [
        "name = 'Mackey'"
      ],
      "execution_count": null,
      "outputs": []
    },
    {
      "cell_type": "code",
      "metadata": {
        "colab": {
          "base_uri": "https://localhost:8080/"
        },
        "id": "5sKhqUf0NwkT",
        "outputId": "1476c0ae-3e25-4ff0-fd23-373959e27ecf"
      },
      "source": [
        "print(text + name +\"!\")"
      ],
      "execution_count": null,
      "outputs": [
        {
          "output_type": "stream",
          "text": [
            "Hello, Mackey!\n"
          ],
          "name": "stdout"
        }
      ]
    },
    {
      "cell_type": "code",
      "metadata": {
        "colab": {
          "base_uri": "https://localhost:8080/"
        },
        "id": "xdlY0AbAOa7r",
        "outputId": "63883c9c-ffe0-48ba-8f11-ce72d955c080"
      },
      "source": [
        "print('The answer is ' + str(x))"
      ],
      "execution_count": null,
      "outputs": [
        {
          "output_type": "stream",
          "text": [
            "The answer is 8\n"
          ],
          "name": "stdout"
        }
      ]
    },
    {
      "cell_type": "code",
      "metadata": {
        "id": "R86mKaARN1Ej"
      },
      "source": [
        "text = \"Hello, world!\""
      ],
      "execution_count": null,
      "outputs": []
    },
    {
      "cell_type": "code",
      "metadata": {
        "colab": {
          "base_uri": "https://localhost:8080/"
        },
        "id": "uRdSdx-UO8jj",
        "outputId": "39192443-18b7-4ab3-f998-5c2f7afdd5ef"
      },
      "source": [
        "print(text[1:3])\n",
        "print(text[:5])\n",
        "print(text[6:])"
      ],
      "execution_count": null,
      "outputs": [
        {
          "output_type": "stream",
          "text": [
            "el\n",
            "Hello\n",
            " world!\n"
          ],
          "name": "stdout"
        }
      ]
    },
    {
      "cell_type": "code",
      "metadata": {
        "id": "YpPBgYgUPk2z"
      },
      "source": [
        "a = 'test'\n",
        "b = 100\n",
        "c = 3.141592"
      ],
      "execution_count": null,
      "outputs": []
    },
    {
      "cell_type": "code",
      "metadata": {
        "colab": {
          "base_uri": "https://localhost:8080/"
        },
        "id": "g2q9Lu5mQEps",
        "outputId": "590d40e5-040d-4436-ed13-a672ded1ceaa"
      },
      "source": [
        "print('文字列は{}です。'.format(a))"
      ],
      "execution_count": null,
      "outputs": [
        {
          "output_type": "stream",
          "text": [
            "文字列はtestです。\n"
          ],
          "name": "stdout"
        }
      ]
    },
    {
      "cell_type": "code",
      "metadata": {
        "colab": {
          "base_uri": "https://localhost:8080/"
        },
        "id": "Oo8quQ68QNf8",
        "outputId": "2adc7a35-e20d-43da-e86c-039dd1b2b2a6"
      },
      "source": [
        "print('整数は{}です。'.format(b))"
      ],
      "execution_count": null,
      "outputs": [
        {
          "output_type": "stream",
          "text": [
            "整数は100です。\n"
          ],
          "name": "stdout"
        }
      ]
    },
    {
      "cell_type": "code",
      "metadata": {
        "colab": {
          "base_uri": "https://localhost:8080/"
        },
        "id": "vnMxeu5uQSg0",
        "outputId": "d85abfda-a989-40de-cb08-431c136e57ab"
      },
      "source": [
        "print('浮動小数点は{:.2f}です。'.format(c))"
      ],
      "execution_count": null,
      "outputs": [
        {
          "output_type": "stream",
          "text": [
            "浮動小数点は3.14です。\n"
          ],
          "name": "stdout"
        }
      ]
    },
    {
      "cell_type": "code",
      "metadata": {
        "colab": {
          "base_uri": "https://localhost:8080/"
        },
        "id": "ewO3D9N8QbjL",
        "outputId": "f38150bb-c613-436d-b054-9d54ee65101b"
      },
      "source": [
        "print('全部表示してみると: {},{},{:.2f}'.format(a, b, c))"
      ],
      "execution_count": null,
      "outputs": [
        {
          "output_type": "stream",
          "text": [
            "全部表示してみると: test,100,3.14\n"
          ],
          "name": "stdout"
        }
      ]
    },
    {
      "cell_type": "code",
      "metadata": {
        "colab": {
          "base_uri": "https://localhost:8080/"
        },
        "id": "QMApHjJYQ1CV",
        "outputId": "fc435f62-6818-40c2-b349-edbb14c1e1ee"
      },
      "source": [
        "my_list = ['Apple', 'Cherry']\n",
        "print(my_list)"
      ],
      "execution_count": null,
      "outputs": [
        {
          "output_type": "stream",
          "text": [
            "['Apple', 'Cherry']\n"
          ],
          "name": "stdout"
        }
      ]
    },
    {
      "cell_type": "code",
      "metadata": {
        "colab": {
          "base_uri": "https://localhost:8080/"
        },
        "id": "EHqFEuJLRMbN",
        "outputId": "2360a1fd-578b-480d-ab33-70ff6f0383eb"
      },
      "source": [
        "my_list.append('Strawberry')\n",
        "print(my_list)"
      ],
      "execution_count": null,
      "outputs": [
        {
          "output_type": "stream",
          "text": [
            "['Apple', 'Cherry', 'Strawberry']\n"
          ],
          "name": "stdout"
        }
      ]
    },
    {
      "cell_type": "code",
      "metadata": {
        "colab": {
          "base_uri": "https://localhost:8080/"
        },
        "id": "0fJeV0vMRVY8",
        "outputId": "cc35081d-6e45-48b5-a0cf-4a565236ac7e"
      },
      "source": [
        "my_list.insert(0, \"Banana\")\n",
        "print(my_list)"
      ],
      "execution_count": null,
      "outputs": [
        {
          "output_type": "stream",
          "text": [
            "['Banana', 'Apple', 'Cherry', 'Strawberry']\n"
          ],
          "name": "stdout"
        }
      ]
    },
    {
      "cell_type": "code",
      "metadata": {
        "colab": {
          "base_uri": "https://localhost:8080/"
        },
        "id": "qovGNXwZRkp-",
        "outputId": "ba72bcb1-fc49-4624-a12f-706607920a8a"
      },
      "source": [
        "del my_list[0]\n",
        "print(my_list)"
      ],
      "execution_count": null,
      "outputs": [
        {
          "output_type": "stream",
          "text": [
            "['Apple', 'Cherry', 'Strawberry']\n"
          ],
          "name": "stdout"
        }
      ]
    },
    {
      "cell_type": "code",
      "metadata": {
        "colab": {
          "base_uri": "https://localhost:8080/"
        },
        "id": "6P095PozR3lW",
        "outputId": "fa8745b8-fe79-4c6a-cb97-fee589e7a339"
      },
      "source": [
        "my_list.remove('Apple')\n",
        "print(my_list)"
      ],
      "execution_count": null,
      "outputs": [
        {
          "output_type": "stream",
          "text": [
            "['Banana', 'Cherry', 'Strawberry']\n"
          ],
          "name": "stdout"
        }
      ]
    },
    {
      "cell_type": "code",
      "metadata": {
        "colab": {
          "base_uri": "https://localhost:8080/"
        },
        "id": "wg2b969VSLvV",
        "outputId": "302289fb-3068-452e-82aa-9c40754b8b43"
      },
      "source": [
        "my_dic = {'Apple': 300, 'Cherry':200, 'Strawberry': 3000}\n",
        "print(my_dic)"
      ],
      "execution_count": null,
      "outputs": [
        {
          "output_type": "stream",
          "text": [
            "{'Apple': 300, 'Cherry': 200, 'Strawberry': 3000}\n"
          ],
          "name": "stdout"
        }
      ]
    },
    {
      "cell_type": "code",
      "metadata": {
        "colab": {
          "base_uri": "https://localhost:8080/"
        },
        "id": "re_jfxppSuvd",
        "outputId": "3fb89622-fdaa-40f6-a4f5-81448c7c518f"
      },
      "source": [
        "print(my_dic['Apple'])"
      ],
      "execution_count": null,
      "outputs": [
        {
          "output_type": "stream",
          "text": [
            "300\n"
          ],
          "name": "stdout"
        }
      ]
    },
    {
      "cell_type": "code",
      "metadata": {
        "id": "i83RPDIqTApm"
      },
      "source": [
        "my_tuple = (1, 2, 3, 4)"
      ],
      "execution_count": null,
      "outputs": []
    },
    {
      "cell_type": "code",
      "metadata": {
        "colab": {
          "base_uri": "https://localhost:8080/"
        },
        "id": "av5yxf0RTHcu",
        "outputId": "74f42107-b511-46d4-a637-9cccdc0ce4e2"
      },
      "source": [
        "print(my_tuple)\n",
        "print(my_tuple[1:3])"
      ],
      "execution_count": null,
      "outputs": [
        {
          "output_type": "stream",
          "text": [
            "(1, 2, 3, 4)\n",
            "(2, 3)\n"
          ],
          "name": "stdout"
        }
      ]
    },
    {
      "cell_type": "code",
      "metadata": {
        "colab": {
          "base_uri": "https://localhost:8080/"
        },
        "id": "eikkfyfrTMsO",
        "outputId": "4ba592fe-0135-4e03-8a6e-faef3a5dc09d"
      },
      "source": [
        "num = 5\n",
        "if num >= 10:\n",
        "  print('numは10以上です。')\n",
        "else:\n",
        "  print('numは１０より小さいです。')"
      ],
      "execution_count": null,
      "outputs": [
        {
          "output_type": "stream",
          "text": [
            "numは１０より小さいです。\n"
          ],
          "name": "stdout"
        }
      ]
    },
    {
      "cell_type": "code",
      "metadata": {
        "colab": {
          "base_uri": "https://localhost:8080/"
        },
        "id": "xmxMbEu0UMjo",
        "outputId": "26d924db-dc4e-4dcb-c5ca-bba887781217"
      },
      "source": [
        "for n in [1,2,3]:\n",
        "  print(n)\n",
        "print(n*10)"
      ],
      "execution_count": null,
      "outputs": [
        {
          "output_type": "stream",
          "text": [
            "1\n",
            "2\n",
            "3\n",
            "30\n"
          ],
          "name": "stdout"
        }
      ]
    },
    {
      "cell_type": "code",
      "metadata": {
        "colab": {
          "base_uri": "https://localhost:8080/"
        },
        "id": "99If4K-5Uugw",
        "outputId": "321005ef-e0cf-4a47-c0cf-96f1468057c5"
      },
      "source": [
        "for n in range(7):\n",
        "  print(n)"
      ],
      "execution_count": null,
      "outputs": [
        {
          "output_type": "stream",
          "text": [
            "0\n",
            "1\n",
            "2\n",
            "3\n",
            "4\n",
            "5\n",
            "6\n"
          ],
          "name": "stdout"
        }
      ]
    },
    {
      "cell_type": "code",
      "metadata": {
        "colab": {
          "base_uri": "https://localhost:8080/"
        },
        "id": "86PE8s2lVMjy",
        "outputId": "9e933573-bf97-4ca3-fe49-f1e7169dbe0a"
      },
      "source": [
        "i = 0\n",
        "while i < 20:\n",
        "  i += 1\n",
        "  if i % 2 == 0:\n",
        "    continue\n",
        "  if i % 3 == 0:\n",
        "    print(i)"
      ],
      "execution_count": null,
      "outputs": [
        {
          "output_type": "stream",
          "text": [
            "3\n",
            "9\n",
            "15\n"
          ],
          "name": "stdout"
        }
      ]
    },
    {
      "cell_type": "code",
      "metadata": {
        "colab": {
          "base_uri": "https://localhost:8080/"
        },
        "id": "_ompcO58V-WZ",
        "outputId": "b93b1b9a-1662-43cd-d2f2-3ffadfc4f467"
      },
      "source": [
        "for num, fruit in enumerate(['Apple', 'Cherry', 'Strawberry']):\n",
        "  print('{}:{}'.format(num, fruit))"
      ],
      "execution_count": null,
      "outputs": [
        {
          "output_type": "stream",
          "text": [
            "0:Apple\n",
            "1:Cherry\n",
            "2:Strawberry\n"
          ],
          "name": "stdout"
        }
      ]
    }
  ]
}