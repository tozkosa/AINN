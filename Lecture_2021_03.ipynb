{
  "nbformat": 4,
  "nbformat_minor": 0,
  "metadata": {
    "colab": {
      "name": "Lecture_2021_03.ipynb",
      "private_outputs": true,
      "provenance": [],
      "collapsed_sections": []
    },
    "kernelspec": {
      "name": "python3",
      "display_name": "Python 3"
    },
    "language_info": {
      "name": "python"
    }
  },
  "cells": [
    {
      "cell_type": "markdown",
      "metadata": {
        "id": "jQAKVvRD9PHm"
      },
      "source": [
        "2021年4月27日（火）2限に行った講義内容です。"
      ]
    },
    {
      "cell_type": "code",
      "metadata": {
        "id": "-1zN8YF5GQ1W"
      },
      "source": [
        "print(\"Hello!\")"
      ],
      "execution_count": null,
      "outputs": []
    },
    {
      "cell_type": "code",
      "metadata": {
        "id": "fe7_rdqsGYI3"
      },
      "source": [
        "1+1"
      ],
      "execution_count": null,
      "outputs": []
    },
    {
      "cell_type": "code",
      "metadata": {
        "id": "a3sCTYqQGvSc"
      },
      "source": [
        "2*2*2*2"
      ],
      "execution_count": null,
      "outputs": []
    },
    {
      "cell_type": "code",
      "metadata": {
        "id": "UJqaVZYwGzX0"
      },
      "source": [
        "a = 8\n",
        "b = 2\n",
        "c = a + b\n",
        "print(a, b, c)"
      ],
      "execution_count": null,
      "outputs": []
    },
    {
      "cell_type": "code",
      "metadata": {
        "id": "ERSjAWY6G9QT"
      },
      "source": [
        "x = 8\n",
        "y = x * 4\n",
        "print(x)\n",
        "print(y)"
      ],
      "execution_count": null,
      "outputs": []
    },
    {
      "cell_type": "code",
      "metadata": {
        "id": "S9pnmHZoHR4j"
      },
      "source": [
        "# コメント文"
      ],
      "execution_count": null,
      "outputs": []
    },
    {
      "cell_type": "code",
      "metadata": {
        "id": "UFslIgiKILbE"
      },
      "source": [
        "print(\"x = {}\".format(x))\n",
        "print(\"y = {}\".format(y))"
      ],
      "execution_count": null,
      "outputs": []
    },
    {
      "cell_type": "code",
      "metadata": {
        "id": "WS-QvAM0Ijhc"
      },
      "source": [
        "my_list = [140, 120, 110, 0]\n",
        "print(my_list)"
      ],
      "execution_count": null,
      "outputs": []
    },
    {
      "cell_type": "code",
      "metadata": {
        "id": "JPJy0rtgJVcT"
      },
      "source": [
        "print(my_list[:-1])"
      ],
      "execution_count": null,
      "outputs": []
    },
    {
      "cell_type": "code",
      "metadata": {
        "id": "qmsimeM0LQZy"
      },
      "source": [
        "a = [1, 3, 2, 5, 7]"
      ],
      "execution_count": null,
      "outputs": []
    },
    {
      "cell_type": "code",
      "metadata": {
        "id": "f9ixtmJWMBEJ"
      },
      "source": [
        "a[0] = 10"
      ],
      "execution_count": null,
      "outputs": []
    },
    {
      "cell_type": "code",
      "metadata": {
        "id": "ticieHl0MGF5"
      },
      "source": [
        "print(a)"
      ],
      "execution_count": null,
      "outputs": []
    },
    {
      "cell_type": "code",
      "metadata": {
        "id": "S4wnHynbMILA"
      },
      "source": [
        "a[1:4] = [20, 30]"
      ],
      "execution_count": null,
      "outputs": []
    },
    {
      "cell_type": "code",
      "metadata": {
        "id": "VHrC0X6DMVJ-"
      },
      "source": [
        "print(a)"
      ],
      "execution_count": null,
      "outputs": []
    },
    {
      "cell_type": "code",
      "metadata": {
        "id": "iKXcPoAJMYml"
      },
      "source": [
        "a = [0, 1, 2, 3]\n",
        "print(a)"
      ],
      "execution_count": null,
      "outputs": []
    },
    {
      "cell_type": "code",
      "metadata": {
        "id": "F3gZ_DyGMlN0"
      },
      "source": [
        "b = list(range(10))\n",
        "print(b)"
      ],
      "execution_count": null,
      "outputs": []
    },
    {
      "cell_type": "code",
      "metadata": {
        "id": "oy02IbR8Mzeb"
      },
      "source": [
        "a = list(range(4))\n",
        "print(a)"
      ],
      "execution_count": null,
      "outputs": []
    },
    {
      "cell_type": "code",
      "metadata": {
        "id": "4mCD3_MlNCfr"
      },
      "source": [
        "print(list(range(1,7)))"
      ],
      "execution_count": null,
      "outputs": []
    },
    {
      "cell_type": "code",
      "metadata": {
        "id": "j3q1lO7XNV-D"
      },
      "source": [
        "print(list(range(1,10, 2)))"
      ],
      "execution_count": null,
      "outputs": []
    },
    {
      "cell_type": "code",
      "metadata": {
        "id": "kGfwj0P4NsOT"
      },
      "source": [
        "text = 'Hello, '"
      ],
      "execution_count": null,
      "outputs": []
    },
    {
      "cell_type": "code",
      "metadata": {
        "id": "5d2ObRqXOA8T"
      },
      "source": [
        "name = 'Mackey'"
      ],
      "execution_count": null,
      "outputs": []
    },
    {
      "cell_type": "code",
      "metadata": {
        "id": "5sKhqUf0NwkT"
      },
      "source": [
        "print(text + name +\"!\")"
      ],
      "execution_count": null,
      "outputs": []
    },
    {
      "cell_type": "code",
      "metadata": {
        "id": "xdlY0AbAOa7r"
      },
      "source": [
        "print('The answer is ' + str(x))"
      ],
      "execution_count": null,
      "outputs": []
    },
    {
      "cell_type": "code",
      "metadata": {
        "id": "R86mKaARN1Ej"
      },
      "source": [
        "text = \"Hello, world!\""
      ],
      "execution_count": null,
      "outputs": []
    },
    {
      "cell_type": "code",
      "metadata": {
        "id": "uRdSdx-UO8jj"
      },
      "source": [
        "print(text[1:3])\n",
        "print(text[:5])\n",
        "print(text[6:])"
      ],
      "execution_count": null,
      "outputs": []
    },
    {
      "cell_type": "code",
      "metadata": {
        "id": "YpPBgYgUPk2z"
      },
      "source": [
        "a = 'test'\n",
        "b = 100\n",
        "c = 3.141592"
      ],
      "execution_count": null,
      "outputs": []
    },
    {
      "cell_type": "code",
      "metadata": {
        "id": "g2q9Lu5mQEps"
      },
      "source": [
        "print('文字列は{}です。'.format(a))"
      ],
      "execution_count": null,
      "outputs": []
    },
    {
      "cell_type": "code",
      "metadata": {
        "id": "Oo8quQ68QNf8"
      },
      "source": [
        "print('整数は{}です。'.format(b))"
      ],
      "execution_count": null,
      "outputs": []
    },
    {
      "cell_type": "code",
      "metadata": {
        "id": "vnMxeu5uQSg0"
      },
      "source": [
        "print('浮動小数点は{:.2f}です。'.format(c))"
      ],
      "execution_count": null,
      "outputs": []
    },
    {
      "cell_type": "code",
      "metadata": {
        "id": "ewO3D9N8QbjL"
      },
      "source": [
        "print('全部表示してみると: {},{},{:.2f}'.format(a, b, c))"
      ],
      "execution_count": null,
      "outputs": []
    },
    {
      "cell_type": "code",
      "metadata": {
        "id": "QMApHjJYQ1CV"
      },
      "source": [
        "my_list = ['Apple', 'Cherry']\n",
        "print(my_list)"
      ],
      "execution_count": null,
      "outputs": []
    },
    {
      "cell_type": "code",
      "metadata": {
        "id": "EHqFEuJLRMbN"
      },
      "source": [
        "my_list.append('Strawberry')\n",
        "print(my_list)"
      ],
      "execution_count": null,
      "outputs": []
    },
    {
      "cell_type": "code",
      "metadata": {
        "id": "0fJeV0vMRVY8"
      },
      "source": [
        "my_list.insert(0, \"Banana\")\n",
        "print(my_list)"
      ],
      "execution_count": null,
      "outputs": []
    },
    {
      "cell_type": "code",
      "metadata": {
        "id": "qovGNXwZRkp-"
      },
      "source": [
        "del my_list[0]\n",
        "print(my_list)"
      ],
      "execution_count": null,
      "outputs": []
    },
    {
      "cell_type": "code",
      "metadata": {
        "id": "6P095PozR3lW"
      },
      "source": [
        "my_list.remove('Apple')\n",
        "print(my_list)"
      ],
      "execution_count": null,
      "outputs": []
    },
    {
      "cell_type": "code",
      "metadata": {
        "id": "wg2b969VSLvV"
      },
      "source": [
        "my_dic = {'Apple': 300, 'Cherry':200, 'Strawberry': 3000}\n",
        "print(my_dic)"
      ],
      "execution_count": null,
      "outputs": []
    },
    {
      "cell_type": "code",
      "metadata": {
        "id": "re_jfxppSuvd"
      },
      "source": [
        "print(my_dic['Apple'])"
      ],
      "execution_count": null,
      "outputs": []
    },
    {
      "cell_type": "code",
      "metadata": {
        "id": "i83RPDIqTApm"
      },
      "source": [
        "my_tuple = (1, 2, 3, 4)"
      ],
      "execution_count": null,
      "outputs": []
    },
    {
      "cell_type": "code",
      "metadata": {
        "id": "av5yxf0RTHcu"
      },
      "source": [
        "print(my_tuple)\n",
        "print(my_tuple[1:3])"
      ],
      "execution_count": null,
      "outputs": []
    },
    {
      "cell_type": "code",
      "metadata": {
        "id": "eikkfyfrTMsO"
      },
      "source": [
        "num = 5\n",
        "if num >= 10:\n",
        "  print('numは10以上です。')\n",
        "else:\n",
        "  print('numは１０より小さいです。')"
      ],
      "execution_count": null,
      "outputs": []
    },
    {
      "cell_type": "code",
      "metadata": {
        "id": "xmxMbEu0UMjo"
      },
      "source": [
        "for n in [1,2,3]:\n",
        "  print(n)\n",
        "print(n*10)"
      ],
      "execution_count": null,
      "outputs": []
    },
    {
      "cell_type": "code",
      "metadata": {
        "id": "99If4K-5Uugw"
      },
      "source": [
        "for n in range(7):\n",
        "  print(n)"
      ],
      "execution_count": null,
      "outputs": []
    },
    {
      "cell_type": "code",
      "metadata": {
        "id": "86PE8s2lVMjy"
      },
      "source": [
        "i = 0\n",
        "while i < 20:\n",
        "  i += 1\n",
        "  if i % 2 == 0:\n",
        "    continue\n",
        "  if i % 3 == 0:\n",
        "    print(i)"
      ],
      "execution_count": null,
      "outputs": []
    },
    {
      "cell_type": "code",
      "metadata": {
        "id": "_ompcO58V-WZ"
      },
      "source": [
        "for num, fruit in enumerate(['Apple', 'Cherry', 'Strawberry']):\n",
        "  print('{}:{}'.format(num, fruit))"
      ],
      "execution_count": null,
      "outputs": []
    }
  ]
}