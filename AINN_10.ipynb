{
  "nbformat": 4,
  "nbformat_minor": 0,
  "metadata": {
    "colab": {
      "name": "AINN_10.ipynb",
      "private_outputs": true,
      "provenance": [],
      "toc_visible": true
    },
    "kernelspec": {
      "name": "python3",
      "display_name": "Python 3"
    },
    "accelerator": "GPU"
  },
  "cells": [
    {
      "cell_type": "markdown",
      "metadata": {
        "id": "F_um3D_DTpnM"
      },
      "source": [
        "# ニューラルネットワークによる回帰問題"
      ]
    },
    {
      "cell_type": "markdown",
      "metadata": {
        "id": "BZrwanrtT41z"
      },
      "source": [
        "モジュールのインポート"
      ]
    },
    {
      "cell_type": "code",
      "metadata": {
        "id": "vFqFNlA8uuf0"
      },
      "source": [
        "from tensorflow.keras.datasets import boston_housing\n",
        "from tensorflow.keras.layers import Activation, Dense, Dropout\n",
        "from tensorflow.keras.models import Sequential\n",
        "from tensorflow.keras.callbacks import EarlyStopping\n",
        "from tensorflow.keras.optimizers import Adam\n",
        "import pandas as pd\n",
        "import numpy as np\n",
        "import matplotlib.pyplot as plt\n",
        "%matplotlib inline"
      ],
      "execution_count": null,
      "outputs": []
    },
    {
      "cell_type": "markdown",
      "metadata": {
        "id": "u772xogAVJ1d"
      },
      "source": [
        "## データセットの準備と確認"
      ]
    },
    {
      "cell_type": "code",
      "metadata": {
        "id": "z_DhrJqcvSOq"
      },
      "source": [
        "(train_data, train_labels), (test_data, test_labels) = boston_housing.load_data()"
      ],
      "execution_count": null,
      "outputs": []
    },
    {
      "cell_type": "code",
      "metadata": {
        "id": "JRoxNMohvrxI"
      },
      "source": [
        "print(train_data.shape)\n",
        "print(train_labels.shape)\n",
        "print(test_data.shape)\n",
        "print(test_labels.shape)"
      ],
      "execution_count": null,
      "outputs": []
    },
    {
      "cell_type": "code",
      "metadata": {
        "id": "xgkhxch1v9m9"
      },
      "source": [
        "column_names = ['CRIM', 'ZN', 'INDUS', 'CHAS', 'NOX', 'RM', 'AGE', 'DIS', 'RAD', 'TAX', 'PTRATIO', 'B', 'LSTAT']\n",
        "df = pd.DataFrame(train_data, columns=column_names)\n",
        "df.head()"
      ],
      "execution_count": null,
      "outputs": []
    },
    {
      "cell_type": "code",
      "metadata": {
        "id": "Vor0LNwasoAV"
      },
      "source": [
        "print(train_labels[0:10])"
      ],
      "execution_count": null,
      "outputs": []
    },
    {
      "cell_type": "markdown",
      "metadata": {
        "id": "N3VrCV0xcQIF"
      },
      "source": [
        "## データセットの前処理と確認"
      ]
    },
    {
      "cell_type": "markdown",
      "metadata": {
        "id": "Qc7C1awtcWUG"
      },
      "source": [
        "訓練データと訓練ラベルのシャッフル"
      ]
    },
    {
      "cell_type": "code",
      "metadata": {
        "id": "4O7lM2oWs63O"
      },
      "source": [
        "order = np.argsort(np.random.random(train_labels.shape))\n",
        "train_data = train_data[order]\n",
        "train_labels = train_labels[order]"
      ],
      "execution_count": null,
      "outputs": []
    },
    {
      "cell_type": "markdown",
      "metadata": {
        "id": "dwS46zQacpJ6"
      },
      "source": [
        "訓練データとテストデータの正規化"
      ]
    },
    {
      "cell_type": "code",
      "metadata": {
        "id": "OkGsTHzuvo33"
      },
      "source": [
        "mean = train_data.mean(axis=0)\n",
        "std = train_data.std(axis=0)\n",
        "train_data = (train_data - mean) / std\n",
        "test_data = (test_data - mean) / std"
      ],
      "execution_count": null,
      "outputs": []
    },
    {
      "cell_type": "markdown",
      "metadata": {
        "id": "Rt-LQSS9ekFQ"
      },
      "source": [
        "正規化後のデータの確認"
      ]
    },
    {
      "cell_type": "code",
      "metadata": {
        "id": "KWcALWGFyPPO"
      },
      "source": [
        "df = pd.DataFrame(train_data, columns=column_names)\n",
        "df.head()"
      ],
      "execution_count": null,
      "outputs": []
    },
    {
      "cell_type": "markdown",
      "metadata": {
        "id": "16s3EcPNytn2"
      },
      "source": [
        "## モデルの作成，Build a model"
      ]
    },
    {
      "cell_type": "code",
      "metadata": {
        "id": "6J_8WEEfypon"
      },
      "source": [
        "model = Sequential()\n",
        "model.add(Dense(64, activation='relu', input_shape=(13, )))\n",
        "model.add(Dense(64, activation='relu'))\n",
        "model.add(Dense(1))"
      ],
      "execution_count": null,
      "outputs": []
    },
    {
      "cell_type": "markdown",
      "metadata": {
        "id": "-1OAN-pRMaMf"
      },
      "source": [
        "## コンパイル"
      ]
    },
    {
      "cell_type": "code",
      "metadata": {
        "id": "Ob87zrEzzGUj"
      },
      "source": [
        "model.compile(loss='mse', optimizer=Adam(lr=0.001), metrics=['mae'])"
      ],
      "execution_count": null,
      "outputs": []
    },
    {
      "cell_type": "markdown",
      "metadata": {
        "id": "ERTnEu2tMdr5"
      },
      "source": [
        "## 学習"
      ]
    },
    {
      "cell_type": "markdown",
      "metadata": {
        "id": "2YwuU56TMgx7"
      },
      "source": [
        "Early stopping"
      ]
    },
    {
      "cell_type": "code",
      "metadata": {
        "id": "s_hEnrqqzy12"
      },
      "source": [
        "early_stop = EarlyStopping(monitor='val_loss', patience=20)"
      ],
      "execution_count": null,
      "outputs": []
    },
    {
      "cell_type": "code",
      "metadata": {
        "id": "1WIKTXQx0LjV"
      },
      "source": [
        "history = model.fit(train_data, train_labels, epochs=500, validation_split=0.2, callbacks=[early_stop])"
      ],
      "execution_count": null,
      "outputs": []
    },
    {
      "cell_type": "markdown",
      "metadata": {
        "id": "cadXupOjMmVg"
      },
      "source": [
        "## グラフの表示"
      ]
    },
    {
      "cell_type": "code",
      "metadata": {
        "id": "mEtdLtNL0dOz"
      },
      "source": [
        "plt.plot(history.history['mae'], label='train_mae')\n",
        "plt.plot(history.history['val_mae'], label='val_mae')\n",
        "plt.xlabel('epoch')\n",
        "plt.ylabel('mae [1000$]')\n",
        "plt.legend(loc='best')\n",
        "plt.ylim([0,5])\n",
        "plt.show()"
      ],
      "execution_count": null,
      "outputs": []
    },
    {
      "cell_type": "markdown",
      "metadata": {
        "id": "-vVV6SYU3DV-"
      },
      "source": [
        "## Evaluation\n",
        "## 評価"
      ]
    },
    {
      "cell_type": "code",
      "metadata": {
        "id": "tm-uKbV_0q3z"
      },
      "source": [
        "test_loss, test_mae = model.evaluate(test_data, test_labels)\n",
        "print('loss: {:.3f}\\nmae: {:.3f}'.format(test_loss, test_mae))"
      ],
      "execution_count": null,
      "outputs": []
    },
    {
      "cell_type": "markdown",
      "metadata": {
        "id": "ksJAjxJF3p5b"
      },
      "source": [
        "## Prediction\n",
        "## 推論"
      ]
    },
    {
      "cell_type": "code",
      "metadata": {
        "id": "e1F3c0O13fin"
      },
      "source": [
        "print(np.round(test_labels[0:10]))\n",
        "\n",
        "test_predictions = model.predict(test_data[0:10]).flatten()\n",
        "print(np.round(test_predictions))"
      ],
      "execution_count": null,
      "outputs": []
    }
  ]
}