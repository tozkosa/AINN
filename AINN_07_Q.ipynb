{
  "nbformat": 4,
  "nbformat_minor": 0,
  "metadata": {
    "kernelspec": {
      "display_name": "Python 3",
      "language": "python",
      "name": "python3"
    },
    "language_info": {
      "codemirror_mode": {
        "name": "ipython",
        "version": 3
      },
      "file_extension": ".py",
      "mimetype": "text/x-python",
      "name": "python",
      "nbconvert_exporter": "python",
      "pygments_lexer": "ipython3",
      "version": "3.7.7"
    },
    "colab": {
      "name": "AINN_07_Q.ipynb",
      "private_outputs": true,
      "provenance": [],
      "toc_visible": true
    }
  },
  "cells": [
    {
      "cell_type": "markdown",
      "metadata": {
        "id": "5KMxw4fJrXjA"
      },
      "source": [
        "# 迷路を走るQ学習エージェント\n",
        "参考文献：小川雄太郎著「つくりながら学ぶ！深層強化学習」<br>\n",
        "Tomoko Ozeki"
      ]
    },
    {
      "cell_type": "code",
      "metadata": {
        "id": "Whv2mbt5rXjB"
      },
      "source": [
        "import numpy as np\n",
        "import matplotlib.pyplot as plt\n",
        "%matplotlib inline"
      ],
      "execution_count": null,
      "outputs": []
    },
    {
      "cell_type": "markdown",
      "metadata": {
        "id": "WRvlAvYJrXjI"
      },
      "source": [
        "## 環境：迷路を作る"
      ]
    },
    {
      "cell_type": "code",
      "metadata": {
        "id": "VVhdMCr9rXjI"
      },
      "source": [
        "# 図を描く大きさと図の変数名を宣言\n",
        "fig = plt.figure(figsize=((5,5)))\n",
        "ax = plt.gca()\n",
        "\n",
        "# 赤い壁を描く\n",
        "plt.plot([1,1], [0,1], color='red', linewidth=2)\n",
        "plt.plot([1,2], [2,2], color='red', linewidth=2)\n",
        "plt.plot([2,2], [2,1], color='red', linewidth=2)\n",
        "plt.plot([2,3], [1,1], color='red', linewidth=2)\n",
        "\n",
        "# 状態を示す文字S0~S8を描く\n",
        "plt.text(0.5, 2.5, 'S0', size=14, ha='center')\n",
        "plt.text(1.5, 2.5, 'S1', size=14, ha='center')\n",
        "plt.text(2.5, 2.5, 'S2', size=14, ha='center')\n",
        "plt.text(0.5, 1.5, 'S3', size=14, ha='center')\n",
        "plt.text(1.5, 1.5, 'S4', size=14, ha='center')\n",
        "plt.text(2.5, 1.5, 'S5', size=14, ha='center')\n",
        "plt.text(0.5, 0.5, 'S6', size=14, ha='center')\n",
        "plt.text(1.5, 0.5, 'S7', size=14, ha='center')\n",
        "plt.text(2.5, 0.5, 'S8', size=14, ha='center')\n",
        "plt.text(0.5, 2.3, 'START', ha='center')\n",
        "plt.text(2.5, 0.3, 'GOAL', ha='center')\n",
        "\n",
        "# 描画範囲の設定と目盛りを消す設定\n",
        "ax.set_xlim(0, 3)\n",
        "ax.set_ylim(0, 3)\n",
        "plt.tick_params(axis='both', which='both', bottom='off', top='off',\n",
        "               labelbottom='off', right='off', left='off', labelleft='off')\n",
        "\n",
        "# 現在地S0に緑丸を描画する\n",
        "line, = ax.plot([0.5], [2.5], marker=\"o\", color='c', markersize=60)\n",
        "plt.show()"
      ],
      "execution_count": null,
      "outputs": []
    },
    {
      "cell_type": "markdown",
      "metadata": {
        "id": "3BULm6cOrXjM"
      },
      "source": [
        "## エージェントを作る"
      ]
    },
    {
      "cell_type": "markdown",
      "metadata": {
        "id": "UBUJmHFyrXjN"
      },
      "source": [
        "### パラメータの初期値\n",
        "行は状態 0~7，列は行動　up, right, down, left"
      ]
    },
    {
      "cell_type": "code",
      "metadata": {
        "id": "tRrdK-fHrXjN"
      },
      "source": [
        "theta_0 = np.array([[np.nan, 1, 1, np.nan],     #S0\n",
        "                   [np.nan, 1, np.nan, 1],      #S1\n",
        "                   [np.nan, np.nan, 1, 1],      #S2\n",
        "                   [1, 1, 1, np.nan],           #S3\n",
        "                   [np.nan, np.nan, 1, 1],      #S4\n",
        "                   [1, np.nan, np.nan, np.nan], #S5\n",
        "                   [1, np.nan, np.nan, np.nan], #S6 \n",
        "                   [1, 1, np.nan, np.nan]       #S7\n",
        "                    ])"
      ],
      "execution_count": null,
      "outputs": []
    },
    {
      "cell_type": "markdown",
      "metadata": {
        "id": "8ZsNF3A2y9ph"
      },
      "source": [
        "### 行動価値関数 Q の初期値を設定"
      ]
    },
    {
      "cell_type": "code",
      "metadata": {
        "id": "0EOzpMEjzIEF"
      },
      "source": [
        "[a, b] = theta_0.shape\n",
        "Q = np.random.rand(a, b) * theta_0 * 0.1 # SARSAより小さく\n",
        "print(Q)"
      ],
      "execution_count": null,
      "outputs": []
    },
    {
      "cell_type": "markdown",
      "metadata": {
        "id": "aTuc8SVe1QNI"
      },
      "source": [
        "### パラメータを単純に方策に変換する関数"
      ]
    },
    {
      "cell_type": "code",
      "metadata": {
        "id": "71MLtLMv1aQT"
      },
      "source": [
        "def theta2pi(theta):\n",
        "    ''' 単純に割合を計算する'''\n",
        "\n",
        "    [m, n] = theta.shape\n",
        "    pi = np.zeros((m, n))\n",
        "    for i in range(0, m):\n",
        "        pi[i,:] = theta[i, :] / np.nansum(theta[i, :])\n",
        "    \n",
        "    pi = np.nan_to_num(pi)\n",
        "\n",
        "    return pi\n",
        "\n",
        "# ランダム行動方策 pi_0 を求める\n",
        "pi_0 = theta2pi(theta_0)\n",
        "print(pi_0)"
      ],
      "execution_count": null,
      "outputs": []
    },
    {
      "cell_type": "markdown",
      "metadata": {
        "id": "uxfmQrwx3v0A"
      },
      "source": [
        "### ε-greedy法を実装"
      ]
    },
    {
      "cell_type": "code",
      "metadata": {
        "id": "pJpxC625326_"
      },
      "source": [
        "def get_action(s, Q, epsilon, pi_0):\n",
        "    direction = [\"up\", \"right\", \"down\", \"left\"]\n",
        "\n",
        "    # 行動を決める\n",
        "    if np.random.rand() < epsilon:\n",
        "        # εの確率でランダムに動く\n",
        "        next_direction = np.random.choice(direction, p=pi_0[s, :])\n",
        "    else:\n",
        "        # Q の最大値の行動を採用する\n",
        "        next_direction = direction[np.nanargmax(Q[s, :])]\n",
        "\n",
        "    # 行動をindexに\n",
        "    if next_direction == \"up\":\n",
        "        action = 0\n",
        "    elif next_direction == \"right\":\n",
        "        action = 1\n",
        "    elif next_direction == \"down\":\n",
        "        action = 2\n",
        "    elif next_direction == \"left\":\n",
        "        action = 3\n",
        "    return action"
      ],
      "execution_count": null,
      "outputs": []
    },
    {
      "cell_type": "markdown",
      "metadata": {
        "id": "-yCyBs-38voc"
      },
      "source": [
        "### 状態遷移"
      ]
    },
    {
      "cell_type": "code",
      "metadata": {
        "id": "289vOqcv7tKu"
      },
      "source": [
        "def get_s_next(s, a, Q, epsilon, pi_0):\n",
        "    direction = [\"up\", \"right\", \"down\", \"left\"]\n",
        "    next_direction = direction[a]\n",
        "\n",
        "    if next_direction == \"up\":\n",
        "        s_next = s - 3\n",
        "    elif next_direction == \"right\":\n",
        "        s_next = s + 1\n",
        "    elif next_direction == \"down\":\n",
        "        s_next = s + 3\n",
        "    elif next_direction == \"left\":\n",
        "        s_next = s - 1\n",
        "\n",
        "    return s_next"
      ],
      "execution_count": null,
      "outputs": []
    },
    {
      "cell_type": "markdown",
      "metadata": {
        "id": "nQZn9bO282B8"
      },
      "source": [
        "### Q学習による行動価値関数 Q の更新"
      ]
    },
    {
      "cell_type": "code",
      "metadata": {
        "id": "QYX2THCT8-q6"
      },
      "source": [
        "def Q_learning(s, a, r, s_next, Q, eta, gamma):\n",
        "    if s_next == 8:\n",
        "        Q[s, a] = Q[s, a] + eta * (r - Q[s, a])\n",
        "    else:\n",
        "        Q[s, a] = Q[s, a] + eta * (r + gamma * np.nanmax(Q[s_next, :]) - Q[s, a])\n",
        "\n",
        "    return Q"
      ],
      "execution_count": null,
      "outputs": []
    },
    {
      "cell_type": "markdown",
      "metadata": {
        "id": "2HBdcYO-9tOm"
      },
      "source": [
        "## Q学習で迷路問題を解く実装"
      ]
    },
    {
      "cell_type": "markdown",
      "metadata": {
        "id": "F5n2PNFZ9_sV"
      },
      "source": [
        "### Q学習で迷路を解く関数の定義"
      ]
    },
    {
      "cell_type": "code",
      "metadata": {
        "id": "IW7gEY8297hS"
      },
      "source": [
        "def goal_maze(Q, epsilon, eta, gamma, pi):\n",
        "    s = 0    # スタート地点\n",
        "    a = a_next = get_action(s, Q, epsilon, pi) # 初めの行動\n",
        "    s_a_history = [[0, np.nan]]\n",
        "\n",
        "    while(1):\n",
        "        a = a_next\n",
        "\n",
        "        s_a_history[-1][1] = a\n",
        "        s_next = get_s_next(s, a, Q, epsilon, pi)\n",
        "\n",
        "        s_a_history.append([s_next, np.nan])\n",
        "        if s_next == 8:\n",
        "            r = 1 # ゴールに到着したので報酬を与える\n",
        "            a_next = np.nan\n",
        "        else:\n",
        "            r = 0\n",
        "        \n",
        "        # 価値関数を更新\n",
        "        Q = Q_learning(s, a, r, s_next, Q, eta, gamma)\n",
        " \n",
        "        # 終了判定\n",
        "        if s_next == 8:\n",
        "            break\n",
        "        else:\n",
        "            s = s_next\n",
        "            a_next = get_action(s_next, Q, epsilon, pi)\n",
        "    return [s_a_history, Q]"
      ],
      "execution_count": null,
      "outputs": []
    },
    {
      "cell_type": "markdown",
      "metadata": {
        "id": "xgTpUrkhAu31"
      },
      "source": [
        "### エピソードの繰り返し"
      ]
    },
    {
      "cell_type": "code",
      "metadata": {
        "id": "2KPLvwdmA2TY"
      },
      "source": [
        "eta = 0.1 # 学習率\n",
        "gamma = 0.9 # 割引率\n",
        "epsilon = 0.5 # e-greedy 手法の初期値\n",
        "v = np.nanmax(Q, axis=1) # 状態ごとに価値の最大値を求める\n",
        "is_continue = True\n",
        "episode = 1\n",
        "\n",
        "V = []\n",
        "V.append(np.nanmax(Q, axis=1))\n",
        "\n",
        "while is_continue:\n",
        "    print(\"エピソード:\" + str(episode))\n",
        "\n",
        "    # e-greedyの値を少しずつ小さくする\n",
        "    epsilon = epsilon / 2\n",
        "    # Q学習で迷路を解き、移動した履歴と更新したQを求める\n",
        "    [s_a_history, Q] = goal_maze(Q, epsilon, eta, gamma, pi_0)\n",
        "\n",
        "    # 状態価値の変化\n",
        "    new_v = np.nanmax(Q, axis=1)\n",
        "    print(np.sum(np.abs(new_v - v)))\n",
        "    v = new_v\n",
        "    V.append(v)\n",
        "\n",
        "    print(\"迷路を解くのにかかったステップ数は\" + str(len(s_a_history) - 1) + \"です\")\n",
        "\n",
        "    # 100エピソード繰り返す\n",
        "    episode = episode + 1\n",
        "    if episode > 100:\n",
        "        break\n"
      ],
      "execution_count": null,
      "outputs": []
    },
    {
      "cell_type": "code",
      "metadata": {
        "id": "c6jBzvfGATGM"
      },
      "source": [
        "v"
      ],
      "execution_count": null,
      "outputs": []
    },
    {
      "cell_type": "markdown",
      "metadata": {
        "id": "WMAfpqi3-A33"
      },
      "source": [
        "## 状態価値の変化を可視化する"
      ]
    },
    {
      "cell_type": "markdown",
      "metadata": {
        "id": "eqbmIC95rXjv"
      },
      "source": [
        "## アニメーションを作る\n",
        "参考URL http://louistiao.me/posts/notebooks/embedding-matplotlib-animations-in-jupyter-as-interactive-javascript-widgets/"
      ]
    },
    {
      "cell_type": "code",
      "metadata": {
        "id": "FyWFkkKvrXjv"
      },
      "source": [
        "from matplotlib import animation\n",
        "from IPython.display import HTML\n",
        "import matplotlib.cm as cm # color map"
      ],
      "execution_count": null,
      "outputs": []
    },
    {
      "cell_type": "code",
      "metadata": {
        "id": "2nH82LCjrXjy"
      },
      "source": [
        "def init():\n",
        "    '''背景画像の初期化'''\n",
        "    line.set_data([], [])\n",
        "    return (line,)\n",
        "\n",
        "def animate(i):\n",
        "    '''フレームごとの描画内容'''\n",
        "    '''各マスに状態価値の大きさに基づく色付きの四角を描画'''\n",
        "    line, = ax.plot([0.5], [2.5], marker=\"s\", color=cm.jet(V[i][0]), markersize=85) # S0\n",
        "    line, = ax.plot([1.5], [2.5], marker=\"s\", color=cm.jet(V[i][1]), markersize=85) # S1\n",
        "    line, = ax.plot([2.5], [2.5], marker=\"s\", color=cm.jet(V[i][2]), markersize=85) # S2\n",
        "    line, = ax.plot([0.5], [1.5], marker=\"s\", color=cm.jet(V[i][3]), markersize=85) # S3\n",
        "    line, = ax.plot([1.5], [1.5], marker=\"s\", color=cm.jet(V[i][4]), markersize=85) # S4\n",
        "    line, = ax.plot([2.5], [1.5], marker=\"s\", color=cm.jet(V[i][5]), markersize=85) # S5\n",
        "    line, = ax.plot([0.5], [0.5], marker=\"s\", color=cm.jet(V[i][6]), markersize=85) # S6\n",
        "    line, = ax.plot([1.5], [0.5], marker=\"s\", color=cm.jet(V[i][7]), markersize=85) # S7\n",
        "    line, = ax.plot([2.5], [0.5], marker=\"s\", color=cm.jet(1.0), markersize=85) # S8\n",
        "    return (line,)\n",
        "    \n",
        "\n",
        "# 初期化関数とフレームごとの描画関数を用いて動画を作成する\n",
        "anim = animation.FuncAnimation(fig, animate, init_func=init, frames=len(V), interval=200, repeat=False)\n",
        "\n",
        "HTML(anim.to_jshtml())"
      ],
      "execution_count": null,
      "outputs": []
    },
    {
      "cell_type": "code",
      "metadata": {
        "id": "KI5yzN8MPQ0K"
      },
      "source": [
        ""
      ],
      "execution_count": null,
      "outputs": []
    }
  ]
}